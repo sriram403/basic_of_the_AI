{
 "cells": [
  {
   "cell_type": "markdown",
   "id": "f0aa5a28",
   "metadata": {
    "heading_collapsed": true
   },
   "source": [
    "# Neural Network for kids 🧒"
   ]
  },
  {
   "cell_type": "markdown",
   "id": "71f59778",
   "metadata": {
    "heading_collapsed": true,
    "hidden": true
   },
   "source": [
    "## importing libraries"
   ]
  },
  {
   "cell_type": "code",
   "execution_count": 40,
   "id": "d22df5d8",
   "metadata": {
    "hidden": true
   },
   "outputs": [],
   "source": [
    "import torch"
   ]
  },
  {
   "cell_type": "markdown",
   "id": "36b51e60",
   "metadata": {
    "heading_collapsed": true,
    "hidden": true
   },
   "source": [
    "## creating basic function"
   ]
  },
  {
   "cell_type": "code",
   "execution_count": 41,
   "id": "720af2b2",
   "metadata": {
    "hidden": true
   },
   "outputs": [],
   "source": [
    "def f(x,w):\n",
    "    return x*w"
   ]
  },
  {
   "cell_type": "markdown",
   "id": "159e9a7d",
   "metadata": {
    "heading_collapsed": true,
    "hidden": true
   },
   "source": [
    "## using with libraries"
   ]
  },
  {
   "cell_type": "code",
   "execution_count": 42,
   "id": "4224aa8f",
   "metadata": {
    "hidden": true
   },
   "outputs": [
    {
     "data": {
      "text/plain": [
       "tensor(4., grad_fn=<MulBackward0>)"
      ]
     },
     "execution_count": 42,
     "metadata": {},
     "output_type": "execute_result"
    }
   ],
   "source": [
    "x = torch.tensor(2) ; \n",
    "w = torch.tensor(2.0) ; w.requires_grad=True\n",
    "f(x,w)"
   ]
  },
  {
   "cell_type": "code",
   "execution_count": 43,
   "id": "91fca3c1",
   "metadata": {
    "hidden": true
   },
   "outputs": [],
   "source": [
    "y = 8"
   ]
  },
  {
   "cell_type": "code",
   "execution_count": 44,
   "id": "db7af5f3",
   "metadata": {
    "hidden": true
   },
   "outputs": [],
   "source": [
    "pred = f(x,w)"
   ]
  },
  {
   "cell_type": "code",
   "execution_count": 45,
   "id": "cfa76e24",
   "metadata": {
    "hidden": true
   },
   "outputs": [
    {
     "data": {
      "text/plain": [
       "tensor(4., grad_fn=<RsubBackward1>)"
      ]
     },
     "execution_count": 45,
     "metadata": {},
     "output_type": "execute_result"
    }
   ],
   "source": [
    "loss = y - pred\n",
    "loss"
   ]
  },
  {
   "cell_type": "code",
   "execution_count": 46,
   "id": "44c5d2a8",
   "metadata": {
    "hidden": true
   },
   "outputs": [
    {
     "name": "stderr",
     "output_type": "stream",
     "text": [
      "C:\\Users\\sriram\\AppData\\Local\\Temp\\ipykernel_9204\\2167842353.py:2: UserWarning: The .grad attribute of a Tensor that is not a leaf Tensor is being accessed. Its .grad attribute won't be populated during autograd.backward(). If you indeed want the .grad field to be populated for a non-leaf Tensor, use .retain_grad() on the non-leaf Tensor. If you access the non-leaf Tensor by mistake, make sure you access the leaf Tensor instead. See github.com/pytorch/pytorch/pull/30531 for more informations. (Triggered internally at C:\\actions-runner\\_work\\pytorch\\pytorch\\builder\\windows\\pytorch\\build\\aten\\src\\ATen/core/TensorBody.h:485.)\n",
      "  loss.grad\n"
     ]
    }
   ],
   "source": [
    "loss.backward()\n",
    "loss.grad"
   ]
  },
  {
   "cell_type": "code",
   "execution_count": 47,
   "id": "815987cd",
   "metadata": {
    "hidden": true
   },
   "outputs": [
    {
     "data": {
      "text/plain": [
       "tensor(-2.)"
      ]
     },
     "execution_count": 47,
     "metadata": {},
     "output_type": "execute_result"
    }
   ],
   "source": [
    "w.grad# note this value"
   ]
  },
  {
   "cell_type": "code",
   "execution_count": 48,
   "id": "7b4d479a",
   "metadata": {
    "hidden": true
   },
   "outputs": [],
   "source": [
    "w.data -= 0.1*w.grad"
   ]
  },
  {
   "cell_type": "code",
   "execution_count": 49,
   "id": "cf1dbe6b",
   "metadata": {
    "hidden": true
   },
   "outputs": [
    {
     "data": {
      "text/plain": [
       "tensor(4.4000, grad_fn=<MulBackward0>)"
      ]
     },
     "execution_count": 49,
     "metadata": {},
     "output_type": "execute_result"
    }
   ],
   "source": [
    "pred = f(x,w)\n",
    "pred"
   ]
  },
  {
   "cell_type": "code",
   "execution_count": 50,
   "id": "f8997324",
   "metadata": {
    "hidden": true
   },
   "outputs": [
    {
     "data": {
      "text/plain": [
       "tensor(3.6000, grad_fn=<RsubBackward1>)"
      ]
     },
     "execution_count": 50,
     "metadata": {},
     "output_type": "execute_result"
    }
   ],
   "source": [
    "loss = y-pred\n",
    "loss"
   ]
  },
  {
   "cell_type": "code",
   "execution_count": 12,
   "id": "92391242",
   "metadata": {
    "hidden": true
   },
   "outputs": [],
   "source": [
    "w.grad = None"
   ]
  },
  {
   "cell_type": "code",
   "execution_count": 13,
   "id": "4e84407f",
   "metadata": {
    "hidden": true
   },
   "outputs": [],
   "source": [
    "loss.backward()"
   ]
  },
  {
   "cell_type": "code",
   "execution_count": 14,
   "id": "91b9bb8b",
   "metadata": {
    "hidden": true
   },
   "outputs": [],
   "source": [
    "w.data -= 0.1 * w.grad"
   ]
  },
  {
   "cell_type": "code",
   "execution_count": 15,
   "id": "4d86961e",
   "metadata": {
    "hidden": true
   },
   "outputs": [
    {
     "data": {
      "text/plain": [
       "tensor(4.8000, grad_fn=<MulBackward0>)"
      ]
     },
     "execution_count": 15,
     "metadata": {},
     "output_type": "execute_result"
    }
   ],
   "source": [
    "pred = f(x,w)\n",
    "pred"
   ]
  },
  {
   "cell_type": "code",
   "execution_count": 16,
   "id": "5d4b9227",
   "metadata": {
    "hidden": true
   },
   "outputs": [
    {
     "data": {
      "text/plain": [
       "tensor(3.2000, grad_fn=<RsubBackward1>)"
      ]
     },
     "execution_count": 16,
     "metadata": {},
     "output_type": "execute_result"
    }
   ],
   "source": [
    "loss = y-pred\n",
    "loss"
   ]
  },
  {
   "cell_type": "code",
   "execution_count": 17,
   "id": "0c41967f",
   "metadata": {
    "hidden": true
   },
   "outputs": [],
   "source": [
    "w = torch.tensor(2.0);w.requires_grad=True\n",
    "x = 2"
   ]
  },
  {
   "cell_type": "code",
   "execution_count": 18,
   "id": "df5fd5fe",
   "metadata": {
    "hidden": true
   },
   "outputs": [
    {
     "name": "stdout",
     "output_type": "stream",
     "text": [
      "loss is  3.5999999046325684\n",
      "loss is  3.1999998092651367\n",
      "loss is  2.799999713897705\n",
      "loss is  2.3999996185302734\n",
      "loss is  1.9999995231628418\n",
      "loss is  1.5999994277954102\n",
      "loss is  1.1999993324279785\n",
      "loss is  0.7999992370605469\n",
      "loss is  0.39999914169311523\n",
      "loss is  -9.5367431640625e-07\n"
     ]
    }
   ],
   "source": [
    "for _ in range(10):\n",
    "    pred = f(x,w)\n",
    "    \n",
    "    loss = y-pred\n",
    "    \n",
    "    w.grad = None\n",
    "    \n",
    "    loss.backward()\n",
    "    \n",
    "    w.data -= 0.1 * w.grad\n",
    "    \n",
    "    pred = f(x,w)\n",
    "    \n",
    "    loss = y-pred\n",
    "    print(f\"loss is  {loss}\")"
   ]
  },
  {
   "cell_type": "code",
   "execution_count": 19,
   "id": "52738a0f",
   "metadata": {
    "hidden": true
   },
   "outputs": [
    {
     "data": {
      "text/plain": [
       "(tensor(8.0000, grad_fn=<MulBackward0>), tensor(4.0000, requires_grad=True))"
      ]
     },
     "execution_count": 19,
     "metadata": {},
     "output_type": "execute_result"
    }
   ],
   "source": [
    "f(x,w),w"
   ]
  },
  {
   "cell_type": "markdown",
   "id": "cb0b3206",
   "metadata": {
    "hidden": true
   },
   "source": [
    "Doing By hand without any libraries\n",
    "\n",
    "step by step and automatic "
   ]
  },
  {
   "cell_type": "markdown",
   "id": "6975cead",
   "metadata": {
    "heading_collapsed": true,
    "hidden": true
   },
   "source": [
    "## Step By Step"
   ]
  },
  {
   "cell_type": "code",
   "execution_count": 20,
   "id": "8432b793",
   "metadata": {
    "hidden": true
   },
   "outputs": [],
   "source": [
    "w = 2\n",
    "x = 2"
   ]
  },
  {
   "cell_type": "code",
   "execution_count": 21,
   "id": "1dcbb1b2",
   "metadata": {
    "hidden": true
   },
   "outputs": [],
   "source": [
    "def gradient_for_multiply(companion,prev_rate_of_change):\n",
    "    return companion * prev_rate_of_change"
   ]
  },
  {
   "cell_type": "code",
   "execution_count": 22,
   "id": "dae13747",
   "metadata": {
    "hidden": true
   },
   "outputs": [
    {
     "data": {
      "text/plain": [
       "4"
      ]
     },
     "execution_count": 22,
     "metadata": {},
     "output_type": "execute_result"
    }
   ],
   "source": [
    "pred=  f(x,w)\n",
    "pred"
   ]
  },
  {
   "cell_type": "code",
   "execution_count": 23,
   "id": "71098508",
   "metadata": {
    "hidden": true
   },
   "outputs": [
    {
     "data": {
      "text/plain": [
       "4"
      ]
     },
     "execution_count": 23,
     "metadata": {},
     "output_type": "execute_result"
    }
   ],
   "source": [
    "loss = y-pred\n",
    "loss"
   ]
  },
  {
   "cell_type": "code",
   "execution_count": 24,
   "id": "3c0aa9a9",
   "metadata": {
    "hidden": true
   },
   "outputs": [
    {
     "data": {
      "text/plain": [
       "-2"
      ]
     },
     "execution_count": 24,
     "metadata": {},
     "output_type": "execute_result"
    }
   ],
   "source": [
    "w_grad = gradient_for_multiply(x,-1)\n",
    "w_grad"
   ]
  },
  {
   "cell_type": "code",
   "execution_count": 25,
   "id": "0e592c6a",
   "metadata": {
    "hidden": true
   },
   "outputs": [
    {
     "data": {
      "text/plain": [
       "2.2"
      ]
     },
     "execution_count": 25,
     "metadata": {},
     "output_type": "execute_result"
    }
   ],
   "source": [
    "w -= 0.1*w_grad\n",
    "w"
   ]
  },
  {
   "cell_type": "code",
   "execution_count": 26,
   "id": "74326332",
   "metadata": {
    "hidden": true
   },
   "outputs": [
    {
     "data": {
      "text/plain": [
       "4.4"
      ]
     },
     "execution_count": 26,
     "metadata": {},
     "output_type": "execute_result"
    }
   ],
   "source": [
    "pred = f(x,w)\n",
    "pred"
   ]
  },
  {
   "cell_type": "code",
   "execution_count": 27,
   "id": "06d103de",
   "metadata": {
    "hidden": true
   },
   "outputs": [],
   "source": [
    "def loss(y,pred):\n",
    "    return y-pred"
   ]
  },
  {
   "cell_type": "code",
   "execution_count": 28,
   "id": "d8c515c1",
   "metadata": {
    "hidden": true
   },
   "outputs": [
    {
     "data": {
      "text/plain": [
       "3.5999999999999996"
      ]
     },
     "execution_count": 28,
     "metadata": {},
     "output_type": "execute_result"
    }
   ],
   "source": [
    "l = loss(y,pred)\n",
    "l"
   ]
  },
  {
   "cell_type": "markdown",
   "id": "c396f170",
   "metadata": {
    "heading_collapsed": true,
    "hidden": true
   },
   "source": [
    "## automating the process again"
   ]
  },
  {
   "cell_type": "code",
   "execution_count": 29,
   "id": "23841064",
   "metadata": {
    "hidden": true
   },
   "outputs": [],
   "source": [
    "w = 2\n",
    "x = 2\n",
    "h = 0.1"
   ]
  },
  {
   "cell_type": "code",
   "execution_count": 30,
   "id": "59f44009",
   "metadata": {
    "hidden": true
   },
   "outputs": [
    {
     "name": "stdout",
     "output_type": "stream",
     "text": [
      "loss is  3.5999999999999996\n",
      "loss is  3.1999999999999993\n",
      "loss is  2.799999999999999\n",
      "loss is  2.3999999999999986\n",
      "loss is  1.9999999999999982\n",
      "loss is  1.5999999999999979\n",
      "loss is  1.1999999999999975\n",
      "loss is  0.7999999999999972\n",
      "loss is  0.3999999999999968\n",
      "loss is  -3.552713678800501e-15\n"
     ]
    }
   ],
   "source": [
    "for _ in range(10):\n",
    "    pred = f(x,w)\n",
    "    w_grad = gradient_for_multiply(x,-1)\n",
    "    w -= h * w_grad\n",
    "    pred = f(x,w)\n",
    "    loss = y-pred\n",
    "    print(f\"loss is  {loss}\")"
   ]
  },
  {
   "cell_type": "code",
   "execution_count": 31,
   "id": "29d316ee",
   "metadata": {
    "hidden": true
   },
   "outputs": [
    {
     "data": {
      "text/plain": [
       "8.000000000000004"
      ]
     },
     "execution_count": 31,
     "metadata": {},
     "output_type": "execute_result"
    }
   ],
   "source": [
    "pred = f(x,w)\n",
    "pred"
   ]
  },
  {
   "cell_type": "markdown",
   "id": "37e1c242",
   "metadata": {
    "heading_collapsed": true,
    "hidden": true
   },
   "source": [
    "## the calculas behind the scene "
   ]
  },
  {
   "attachments": {
    "derivative_formula.png": {
     "image/png": "[encoded data removed]"
    }
   },
   "cell_type": "markdown",
   "id": "01485dd9",
   "metadata": {
    "hidden": true
   },
   "source": [
    "the formula for derivative is \n",
    "\n",
    "![derivative_formula.png](attachment:derivative_formula.png)\n",
    "\n",
    "\n",
    "it's a rate of change of value(or a input) in a given point \n",
    "\n",
    "**For Multiplication** \n",
    "\n",
    "`2`*`3`\n",
    "\n",
    "the rate of change of `3` is going to be always `2`\n",
    "\n",
    "and vice versa (for `2` it's going to be `3`)\n",
    "\n",
    "so if i changed the `3` into `4` the rate of change is still going to be 2 no matter what\n",
    "\n",
    "and yes vice versa\n",
    "\n",
    "**For Minus**\n",
    "\n",
    "we are going to get `-1`\n",
    "\n",
    "it's rate of change is always going to be low then a previous number\n",
    "\n",
    "and we can find this using that scary formula tooo 😂"
   ]
  },
  {
   "cell_type": "code",
   "execution_count": 32,
   "id": "dd2c5563",
   "metadata": {
    "hidden": true
   },
   "outputs": [],
   "source": [
    "w = 2\n",
    "x = 2\n",
    "y = 8\n",
    "h = 0.1"
   ]
  },
  {
   "cell_type": "markdown",
   "id": "3cecf294",
   "metadata": {
    "hidden": true
   },
   "source": [
    "for prediction formula we created before\n",
    "\n",
    "`w*x`"
   ]
  },
  {
   "cell_type": "code",
   "execution_count": 33,
   "id": "de4469c2",
   "metadata": {
    "hidden": true
   },
   "outputs": [
    {
     "data": {
      "text/plain": [
       "2.0000000000000018"
      ]
     },
     "execution_count": 33,
     "metadata": {},
     "output_type": "execute_result"
    }
   ],
   "source": [
    "#for multiplication x = 2,w =2\n",
    "((x*(w+h)) - (x*w))/h"
   ]
  },
  {
   "cell_type": "code",
   "execution_count": 34,
   "id": "7928a963",
   "metadata": {
    "hidden": true
   },
   "outputs": [
    {
     "data": {
      "text/plain": [
       "4"
      ]
     },
     "execution_count": 34,
     "metadata": {},
     "output_type": "execute_result"
    }
   ],
   "source": [
    "p = x*w\n",
    "p"
   ]
  },
  {
   "cell_type": "markdown",
   "id": "68c6205e",
   "metadata": {
    "hidden": true
   },
   "source": [
    "for loss formula we created before \n",
    "\n",
    "`loss = y - pred`"
   ]
  },
  {
   "cell_type": "code",
   "execution_count": 38,
   "id": "6c610257",
   "metadata": {
    "hidden": true
   },
   "outputs": [
    {
     "data": {
      "text/plain": [
       "-0.9999999999999964"
      ]
     },
     "execution_count": 38,
     "metadata": {},
     "output_type": "execute_result"
    }
   ],
   "source": [
    "#for minus y = 8,p = 4,h = 0.1\n",
    "((y-(p+h)) - (y-p))/h"
   ]
  },
  {
   "cell_type": "markdown",
   "id": "afc62c39",
   "metadata": {
    "hidden": true
   },
   "source": [
    "and that's the gradient are calculas part of the neural network\n",
    "\n",
    "the fundamentals are not gonna change\n",
    "\n",
    "and this is the fundamentals 🥳"
   ]
  },
  {
   "cell_type": "code",
   "execution_count": null,
   "id": "2f6d111d",
   "metadata": {
    "hidden": true
   },
   "outputs": [],
   "source": []
  }
 ],
 "metadata": {
  "kernelspec": {
   "display_name": "Python 3 (ipykernel)",
   "language": "python",
   "name": "python3"
  },
  "language_info": {
   "codemirror_mode": {
    "name": "ipython",
    "version": 3
   },
   "file_extension": ".py",
   "mimetype": "text/x-python",
   "name": "python",
   "nbconvert_exporter": "python",
   "pygments_lexer": "ipython3",
   "version": "3.9.15"
  },
  "toc": {
   "base_numbering": 1,
   "nav_menu": {},
   "number_sections": true,
   "sideBar": true,
   "skip_h1_title": false,
   "title_cell": "Table of Contents",
   "title_sidebar": "Contents",
   "toc_cell": false,
   "toc_position": {},
   "toc_section_display": true,
   "toc_window_display": false
  }
 },
 "nbformat": 4,
 "nbformat_minor": 5
}
