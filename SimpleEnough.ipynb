{
 "cells": [
  {
   "cell_type": "markdown",
   "id": "f0aa5a28",
   "metadata": {},
   "source": [
    "# Neural Network for kids 🧒"
   ]
  },
  {
   "cell_type": "markdown",
   "id": "71f59778",
   "metadata": {},
   "source": [
    "## importing libraries"
   ]
  },
  {
   "cell_type": "code",
   "execution_count": 186,
   "id": "d22df5d8",
   "metadata": {},
   "outputs": [],
   "source": [
    "import torch"
   ]
  },
  {
   "cell_type": "markdown",
   "id": "36b51e60",
   "metadata": {},
   "source": [
    "## creating basic function"
   ]
  },
  {
   "cell_type": "code",
   "execution_count": 187,
   "id": "720af2b2",
   "metadata": {},
   "outputs": [],
   "source": [
    "def f(w):\n",
    "    return 2*w"
   ]
  },
  {
   "cell_type": "code",
   "execution_count": 188,
   "id": "263beea6",
   "metadata": {},
   "outputs": [
    {
     "name": "stderr",
     "output_type": "stream",
     "text": [
      "C:\\Users\\sriram\\AppData\\Local\\Temp\\ipykernel_6124\\3816062301.py:2: UserWarning: torch.range is deprecated and will be removed in a future release because its behavior is inconsistent with Python's range builtin. Instead, use torch.arange, which produces values in [start, end).\n",
      "  n = torch.range(-10,10)\n"
     ]
    },
    {
     "data": {
      "text/plain": [
       "[<matplotlib.lines.Line2D at 0x1e4470a9d30>]"
      ]
     },
     "execution_count": 188,
     "metadata": {},
     "output_type": "execute_result"
    },
    {
     "data": {
      "image/png": "[encoded data removed]",
      "text/plain": [
       "<Figure size 640x480 with 1 Axes>"
      ]
     },
     "metadata": {},
     "output_type": "display_data"
    }
   ],
   "source": [
    "import matplotlib.pyplot as plt\n",
    "n = torch.range(-10,10)\n",
    "y = f(n)\n",
    "plt.plot(n,y)"
   ]
  },
  {
   "cell_type": "markdown",
   "id": "159e9a7d",
   "metadata": {},
   "source": [
    "## using with libraries"
   ]
  },
  {
   "cell_type": "code",
   "execution_count": 214,
   "id": "4224aa8f",
   "metadata": {},
   "outputs": [
    {
     "data": {
      "text/plain": [
       "tensor(4., grad_fn=<MulBackward0>)"
      ]
     },
     "execution_count": 214,
     "metadata": {},
     "output_type": "execute_result"
    }
   ],
   "source": [
    "w = torch.tensor(2.0) ; w.requires_grad=True\n",
    "f(w)"
   ]
  },
  {
   "cell_type": "code",
   "execution_count": 215,
   "id": "91fca3c1",
   "metadata": {},
   "outputs": [],
   "source": [
    "y = 8"
   ]
  },
  {
   "cell_type": "code",
   "execution_count": 216,
   "id": "db7af5f3",
   "metadata": {},
   "outputs": [],
   "source": [
    "pred = f(w)\n",
    "pred.retain_grad()\n",
    "pred.grad"
   ]
  },
  {
   "cell_type": "code",
   "execution_count": 217,
   "id": "cfa76e24",
   "metadata": {},
   "outputs": [],
   "source": [
    "loss = y - pred \n",
    "loss.retain_grad()"
   ]
  },
  {
   "cell_type": "code",
   "execution_count": 218,
   "id": "44c5d2a8",
   "metadata": {},
   "outputs": [
    {
     "data": {
      "text/plain": [
       "tensor(1.)"
      ]
     },
     "execution_count": 218,
     "metadata": {},
     "output_type": "execute_result"
    }
   ],
   "source": [
    "loss.backward()\n",
    "loss.grad"
   ]
  },
  {
   "cell_type": "code",
   "execution_count": 219,
   "id": "815987cd",
   "metadata": {},
   "outputs": [
    {
     "data": {
      "text/plain": [
       "tensor(-2.)"
      ]
     },
     "execution_count": 219,
     "metadata": {},
     "output_type": "execute_result"
    }
   ],
   "source": [
    "w.grad# note this value"
   ]
  },
  {
   "cell_type": "code",
   "execution_count": 220,
   "id": "7b4d479a",
   "metadata": {},
   "outputs": [],
   "source": [
    "w.data -= 0.1* w.grad"
   ]
  },
  {
   "cell_type": "code",
   "execution_count": 221,
   "id": "cf1dbe6b",
   "metadata": {},
   "outputs": [
    {
     "data": {
      "text/plain": [
       "tensor(4.4000, grad_fn=<MulBackward0>)"
      ]
     },
     "execution_count": 221,
     "metadata": {},
     "output_type": "execute_result"
    }
   ],
   "source": [
    "pred = f(w)\n",
    "pred"
   ]
  },
  {
   "cell_type": "code",
   "execution_count": 222,
   "id": "dcbef881",
   "metadata": {},
   "outputs": [
    {
     "data": {
      "text/plain": [
       "tensor(2.2000, requires_grad=True)"
      ]
     },
     "execution_count": 222,
     "metadata": {},
     "output_type": "execute_result"
    }
   ],
   "source": [
    "w"
   ]
  },
  {
   "cell_type": "code",
   "execution_count": 180,
   "id": "0c41967f",
   "metadata": {},
   "outputs": [],
   "source": [
    "w = torch.tensor(2.0);w.requires_grad=True\n",
    "x = 2\n",
    "y = 8"
   ]
  },
  {
   "cell_type": "code",
   "execution_count": 223,
   "id": "df5fd5fe",
   "metadata": {},
   "outputs": [
    {
     "name": "stdout",
     "output_type": "stream",
     "text": [
      "loss is  3.1999998092651367\n",
      "loss is  2.799999713897705\n",
      "loss is  2.3999996185302734\n",
      "loss is  1.9999995231628418\n",
      "loss is  1.5999994277954102\n",
      "loss is  1.1999993324279785\n",
      "loss is  0.7999992370605469\n",
      "loss is  0.39999914169311523\n",
      "loss is  -9.5367431640625e-07\n",
      "loss is  -0.40000057220458984\n"
     ]
    }
   ],
   "source": [
    "for _ in range(10):\n",
    "    pred = f(w)\n",
    "    \n",
    "    loss = y-pred\n",
    "    \n",
    "    w.grad = None\n",
    "    \n",
    "    loss.backward()\n",
    "    \n",
    "    w.data -= 0.1 * w.grad\n",
    "    \n",
    "    pred = f(w)\n",
    "    \n",
    "    loss = y-pred\n",
    "    print(f\"loss is  {loss}\")"
   ]
  },
  {
   "cell_type": "code",
   "execution_count": 224,
   "id": "52738a0f",
   "metadata": {},
   "outputs": [
    {
     "data": {
      "text/plain": [
       "(8.40000057220459, 4.200000286102295)"
      ]
     },
     "execution_count": 224,
     "metadata": {},
     "output_type": "execute_result"
    }
   ],
   "source": [
    "f(w).item(),w.item()"
   ]
  },
  {
   "cell_type": "markdown",
   "id": "cb0b3206",
   "metadata": {},
   "source": [
    "Doing By hand without any libraries\n",
    "\n",
    "step by step and automatic "
   ]
  },
  {
   "cell_type": "markdown",
   "id": "6975cead",
   "metadata": {},
   "source": [
    "## Step By Step"
   ]
  },
  {
   "cell_type": "code",
   "execution_count": 170,
   "id": "8432b793",
   "metadata": {},
   "outputs": [],
   "source": [
    "w = 2\n",
    "x = 2"
   ]
  },
  {
   "cell_type": "code",
   "execution_count": 172,
   "id": "dae13747",
   "metadata": {},
   "outputs": [
    {
     "data": {
      "text/plain": [
       "4"
      ]
     },
     "execution_count": 172,
     "metadata": {},
     "output_type": "execute_result"
    }
   ],
   "source": [
    "pred=  f(w)\n",
    "pred"
   ]
  },
  {
   "cell_type": "code",
   "execution_count": 174,
   "id": "71098508",
   "metadata": {},
   "outputs": [
    {
     "data": {
      "text/plain": [
       "20"
      ]
     },
     "execution_count": 174,
     "metadata": {},
     "output_type": "execute_result"
    }
   ],
   "source": [
    "loss = y-pred\n",
    "loss"
   ]
  },
  {
   "cell_type": "code",
   "execution_count": 175,
   "id": "3c0aa9a9",
   "metadata": {},
   "outputs": [
    {
     "data": {
      "text/plain": [
       "-2"
      ]
     },
     "execution_count": 175,
     "metadata": {},
     "output_type": "execute_result"
    }
   ],
   "source": [
    "w_grad = -2\n",
    "w_grad"
   ]
  },
  {
   "cell_type": "code",
   "execution_count": 176,
   "id": "0e592c6a",
   "metadata": {},
   "outputs": [
    {
     "data": {
      "text/plain": [
       "2.2"
      ]
     },
     "execution_count": 176,
     "metadata": {},
     "output_type": "execute_result"
    }
   ],
   "source": [
    "w -= 0.1*w_grad\n",
    "w"
   ]
  },
  {
   "cell_type": "code",
   "execution_count": 177,
   "id": "74326332",
   "metadata": {},
   "outputs": [
    {
     "data": {
      "text/plain": [
       "4.4"
      ]
     },
     "execution_count": 177,
     "metadata": {},
     "output_type": "execute_result"
    }
   ],
   "source": [
    "pred = f(w)\n",
    "pred"
   ]
  },
  {
   "cell_type": "code",
   "execution_count": 178,
   "id": "06d103de",
   "metadata": {},
   "outputs": [],
   "source": [
    "def loss(y,pred):\n",
    "    return y - pred"
   ]
  },
  {
   "cell_type": "code",
   "execution_count": 179,
   "id": "d8c515c1",
   "metadata": {},
   "outputs": [
    {
     "data": {
      "text/plain": [
       "19.6"
      ]
     },
     "execution_count": 179,
     "metadata": {},
     "output_type": "execute_result"
    }
   ],
   "source": [
    "l = loss(y,pred)\n",
    "l"
   ]
  },
  {
   "cell_type": "markdown",
   "id": "c396f170",
   "metadata": {},
   "source": [
    "## automating the process again"
   ]
  },
  {
   "cell_type": "code",
   "execution_count": 85,
   "id": "544de625",
   "metadata": {},
   "outputs": [],
   "source": [
    "import time"
   ]
  },
  {
   "cell_type": "code",
   "execution_count": 97,
   "id": "db21ed83",
   "metadata": {},
   "outputs": [],
   "source": [
    "def f(w):\n",
    "    return x*w"
   ]
  },
  {
   "cell_type": "code",
   "execution_count": 108,
   "id": "781c1979",
   "metadata": {},
   "outputs": [],
   "source": [
    "def gradient_for_multiply(companion,prev_rate_of_change):\n",
    "    return companion * prev_rate_of_change"
   ]
  },
  {
   "cell_type": "code",
   "execution_count": 164,
   "id": "23841064",
   "metadata": {},
   "outputs": [],
   "source": [
    "w = 2\n",
    "x = 2\n",
    "y = 24\n",
    "h = 0.1"
   ]
  },
  {
   "cell_type": "code",
   "execution_count": 165,
   "id": "59f44009",
   "metadata": {},
   "outputs": [
    {
     "name": "stdout",
     "output_type": "stream",
     "text": [
      "loss is  19.6\n",
      "loss is  19.2\n",
      "loss is  18.799999999999997\n",
      "loss is  18.4\n",
      "loss is  18.0\n",
      "loss is  17.599999999999998\n",
      "loss is  17.199999999999996\n",
      "loss is  16.799999999999997\n",
      "loss is  16.4\n",
      "loss is  15.999999999999996\n",
      "loss is  15.599999999999996\n",
      "loss is  15.199999999999996\n",
      "loss is  14.799999999999995\n",
      "loss is  14.399999999999995\n",
      "loss is  13.999999999999995\n",
      "loss is  13.599999999999994\n",
      "loss is  13.199999999999994\n",
      "loss is  12.799999999999994\n",
      "loss is  12.399999999999993\n",
      "loss is  11.999999999999993\n",
      "loss is  11.599999999999993\n",
      "loss is  11.199999999999992\n",
      "loss is  10.799999999999992\n",
      "loss is  10.399999999999991\n",
      "loss is  9.999999999999991\n",
      "loss is  9.59999999999999\n",
      "loss is  9.19999999999999\n",
      "loss is  8.79999999999999\n",
      "loss is  8.39999999999999\n",
      "loss is  7.999999999999989\n",
      "loss is  7.599999999999991\n",
      "loss is  7.199999999999992\n",
      "loss is  6.799999999999994\n",
      "loss is  6.399999999999995\n",
      "loss is  5.9999999999999964\n",
      "loss is  5.599999999999998\n",
      "loss is  5.199999999999999\n",
      "loss is  4.800000000000001\n",
      "loss is  4.400000000000002\n",
      "loss is  4.0000000000000036\n",
      "loss is  3.600000000000005\n",
      "loss is  3.2000000000000064\n",
      "loss is  2.800000000000008\n",
      "loss is  2.4000000000000092\n",
      "loss is  2.0000000000000107\n",
      "loss is  1.600000000000012\n",
      "loss is  1.2000000000000135\n",
      "loss is  0.8000000000000149\n",
      "loss is  0.40000000000001634\n",
      "loss is  1.7763568394002505e-14\n"
     ]
    }
   ],
   "source": [
    "for _ in range(50):\n",
    "    pred = f(w)\n",
    "    w_grad = gradient_for_multiply(x,-1)\n",
    "    w -= h * w_grad\n",
    "    pred = f(w)\n",
    "    loss = y - pred\n",
    "    time.sleep(0.5)\n",
    "    print(f\"loss is  {loss}\")"
   ]
  },
  {
   "cell_type": "code",
   "execution_count": 166,
   "id": "d64f61f4",
   "metadata": {},
   "outputs": [
    {
     "data": {
      "text/plain": [
       "11.999999999999991"
      ]
     },
     "execution_count": 166,
     "metadata": {},
     "output_type": "execute_result"
    }
   ],
   "source": [
    "w"
   ]
  },
  {
   "cell_type": "code",
   "execution_count": 167,
   "id": "29d316ee",
   "metadata": {},
   "outputs": [
    {
     "data": {
      "text/plain": [
       "23.999999999999982"
      ]
     },
     "execution_count": 167,
     "metadata": {},
     "output_type": "execute_result"
    }
   ],
   "source": [
    "pred = f(w)\n",
    "pred"
   ]
  },
  {
   "cell_type": "markdown",
   "id": "37e1c242",
   "metadata": {},
   "source": [
    "## the calculas behind the scene "
   ]
  },
  {
   "attachments": {
    "derivative_formula.png": {
     "image/png": "[encoded data removed]"
    }
   },
   "cell_type": "markdown",
   "id": "01485dd9",
   "metadata": {},
   "source": [
    "the formula for derivative is \n",
    "\n",
    "![derivative_formula.png](attachment:derivative_formula.png)\n",
    "\n",
    "\n",
    "it's a rate of change of value(or a input) in a given point \n",
    "\n",
    "**For Multiplication** \n",
    "\n",
    "`2`*`3`\n",
    "\n",
    "the rate of change of `3` is going to be always `2`\n",
    "\n",
    "and vice versa (for `2` it's going to be `3`)\n",
    "\n",
    "so if i changed the `3` into `4` the rate of change is still going to be 2 no matter what\n",
    "\n",
    "and yes vice versa\n",
    "\n",
    "**For Minus**\n",
    "\n",
    "we are going to get `-1`\n",
    "\n",
    "it's rate of change is always going to be low then a previous number\n",
    "\n",
    "and we can find this using that scary formula tooo 😂"
   ]
  },
  {
   "cell_type": "code",
   "execution_count": 252,
   "id": "dd2c5563",
   "metadata": {},
   "outputs": [],
   "source": [
    "w = 2\n",
    "x = 6\n",
    "y = 8\n",
    "h = 0.1"
   ]
  },
  {
   "cell_type": "markdown",
   "id": "3cecf294",
   "metadata": {},
   "source": [
    "for prediction formula we created before\n",
    "\n",
    "`w*x`"
   ]
  },
  {
   "cell_type": "code",
   "execution_count": 253,
   "id": "de4469c2",
   "metadata": {},
   "outputs": [
    {
     "data": {
      "text/plain": [
       "6.000000000000014"
      ]
     },
     "execution_count": 253,
     "metadata": {},
     "output_type": "execute_result"
    }
   ],
   "source": [
    "#for multiplication x = 2,w =2\n",
    "((x*(w+h)) - (x*w))/h"
   ]
  },
  {
   "cell_type": "code",
   "execution_count": 254,
   "id": "7928a963",
   "metadata": {},
   "outputs": [
    {
     "data": {
      "text/plain": [
       "12"
      ]
     },
     "execution_count": 254,
     "metadata": {},
     "output_type": "execute_result"
    }
   ],
   "source": [
    "p = x*w\n",
    "p"
   ]
  },
  {
   "cell_type": "markdown",
   "id": "68c6205e",
   "metadata": {},
   "source": [
    "for loss formula we created before \n",
    "\n",
    "`loss = y - pred`"
   ]
  },
  {
   "cell_type": "code",
   "execution_count": 255,
   "id": "6c610257",
   "metadata": {},
   "outputs": [
    {
     "data": {
      "text/plain": [
       "-0.9999999999999964"
      ]
     },
     "execution_count": 255,
     "metadata": {},
     "output_type": "execute_result"
    }
   ],
   "source": [
    "#for minus y = 8,p = 4,h = 0.1\n",
    "((y-(p+h)) - (y-p))/h"
   ]
  },
  {
   "cell_type": "markdown",
   "id": "afc62c39",
   "metadata": {},
   "source": [
    "and that's the gradient are calculas part of the neural network\n",
    "\n",
    "the fundamentals are not gonna change\n",
    "\n",
    "and this is the fundamentals 🥳"
   ]
  },
  {
   "attachments": {},
   "cell_type": "markdown",
   "id": "802ad8a6",
   "metadata": {},
   "source": [
    "loss = y - pred \n",
    "\n",
    "dl/dl = 1\n",
    "\n",
    "dl/dx = w\n",
    "\n",
    "dl/dw = x"
   ]
  },
  {
   "cell_type": "markdown",
   "id": "5f641b99",
   "metadata": {},
   "source": [
    "## Even More Automation"
   ]
  },
  {
   "cell_type": "code",
   "execution_count": 160,
   "id": "db568117",
   "metadata": {},
   "outputs": [],
   "source": [
    "def f(w):\n",
    "    return x*w"
   ]
  },
  {
   "cell_type": "code",
   "execution_count": 161,
   "id": "2f6d111d",
   "metadata": {},
   "outputs": [
    {
     "name": "stdout",
     "output_type": "stream",
     "text": [
      "22\n",
      "loss is :  18.0\n",
      "loss is :  13.999999999999996\n",
      "loss is :  9.999999999999993\n",
      "loss is :  6.0\n",
      "loss is :  2.000000000000014\n"
     ]
    }
   ],
   "source": [
    "w = 1\n",
    "x = 2\n",
    "y = 24\n",
    "lr = 0.1\n",
    "i = 0\n",
    "loss = y - f(w)\n",
    "print(loss)\n",
    "while loss>0.1:\n",
    "    \n",
    "    i+=1\n",
    "    #forward pass\n",
    "    pred = f(w)\n",
    "    \n",
    "    loss = y-pred\n",
    "    \n",
    "    if i % 10 == 0:\n",
    "        print(\"loss is : \",loss)\n",
    "        \n",
    "    #backward pass \n",
    "    w_grad = gradient_for_multiply(x,-1)\n",
    "    \n",
    "    w -= lr * w_grad"
   ]
  },
  {
   "cell_type": "code",
   "execution_count": 162,
   "id": "848050bd",
   "metadata": {},
   "outputs": [
    {
     "data": {
      "text/plain": [
       "11.99999999999999"
      ]
     },
     "execution_count": 162,
     "metadata": {},
     "output_type": "execute_result"
    }
   ],
   "source": [
    "w"
   ]
  },
  {
   "cell_type": "code",
   "execution_count": 163,
   "id": "b5fa20a6",
   "metadata": {},
   "outputs": [
    {
     "data": {
      "text/plain": [
       "24"
      ]
     },
     "execution_count": 163,
     "metadata": {},
     "output_type": "execute_result"
    }
   ],
   "source": [
    "round(f(w))"
   ]
  },
  {
   "cell_type": "code",
   "execution_count": null,
   "id": "e29009a5",
   "metadata": {},
   "outputs": [],
   "source": []
  },
  {
   "cell_type": "code",
   "execution_count": null,
   "id": "496d1ad2",
   "metadata": {},
   "outputs": [],
   "source": []
  },
  {
   "cell_type": "code",
   "execution_count": null,
   "id": "10e921cd",
   "metadata": {},
   "outputs": [],
   "source": []
  }
 ],
 "metadata": {
  "kernelspec": {
   "display_name": "Python 3 (ipykernel)",
   "language": "python",
   "name": "python3"
  },
  "language_info": {
   "codemirror_mode": {
    "name": "ipython",
    "version": 3
   },
   "file_extension": ".py",
   "mimetype": "text/x-python",
   "name": "python",
   "nbconvert_exporter": "python",
   "pygments_lexer": "ipython3",
   "version": "3.8.0"
  },
  "toc": {
   "base_numbering": 1,
   "nav_menu": {},
   "number_sections": true,
   "sideBar": true,
   "skip_h1_title": false,
   "title_cell": "Table of Contents",
   "title_sidebar": "Contents",
   "toc_cell": false,
   "toc_position": {},
   "toc_section_display": true,
   "toc_window_display": false
  },
  "vscode": {
   "interpreter": {
    "hash": "db29d9c3531fbefb8528bf1617aed628388b45e6ce014ed5e5e3db8968ae6306"
   }
  }
 },
 "nbformat": 4,
 "nbformat_minor": 5
}
