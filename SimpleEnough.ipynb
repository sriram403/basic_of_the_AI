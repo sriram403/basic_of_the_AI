{
 "cells": [
  {
   "cell_type": "markdown",
   "id": "f0aa5a28",
   "metadata": {},
   "source": [
    "# Neural Network for kids 🧒"
   ]
  },
  {
   "attachments": {},
   "cell_type": "markdown",
   "id": "71f59778",
   "metadata": {},
   "source": [
    "## importing library\n",
    "\n",
    "First Let's See how we can use library to train a simple model"
   ]
  },
  {
   "cell_type": "code",
   "execution_count": 440,
   "id": "d22df5d8",
   "metadata": {},
   "outputs": [],
   "source": [
    "import torch"
   ]
  },
  {
   "attachments": {},
   "cell_type": "markdown",
   "id": "36b51e60",
   "metadata": {},
   "source": [
    "## creating basic function\n",
    "\n",
    "Oru problem statement is this  \n",
    "\n",
    "`2*? = 8`\n",
    "\n",
    "I know it's so hard but let's give our computer a hard time,cause why not ????"
   ]
  },
  {
   "cell_type": "code",
   "execution_count": 441,
   "id": "720af2b2",
   "metadata": {},
   "outputs": [],
   "source": [
    "def f(w):\n",
    "    return 2*w"
   ]
  },
  {
   "attachments": {},
   "cell_type": "markdown",
   "id": "5f4a44a5",
   "metadata": {},
   "source": [
    "## Let's Also Plot the Function so we can visualize all the output possiblity"
   ]
  },
  {
   "cell_type": "code",
   "execution_count": 442,
   "id": "263beea6",
   "metadata": {},
   "outputs": [
    {
     "name": "stderr",
     "output_type": "stream",
     "text": [
      "C:\\Users\\sriram\\AppData\\Local\\Temp\\ipykernel_11460\\3816062301.py:2: UserWarning: torch.range is deprecated and will be removed in a future release because its behavior is inconsistent with Python's range builtin. Instead, use torch.arange, which produces values in [start, end).\n",
      "  n = torch.range(-10,10)\n"
     ]
    },
    {
     "data": {
      "text/plain": [
       "[<matplotlib.lines.Line2D at 0x2177ab84190>]"
      ]
     },
     "execution_count": 442,
     "metadata": {},
     "output_type": "execute_result"
    },
    {
     "data": {
      "image/png": "[encoded data removed]",
      "text/plain": [
       "<Figure size 640x480 with 1 Axes>"
      ]
     },
     "metadata": {},
     "output_type": "display_data"
    }
   ],
   "source": [
    "import matplotlib.pyplot as plt\n",
    "n = torch.range(-10,10)\n",
    "y = f(n)\n",
    "plt.plot(n,y)"
   ]
  },
  {
   "attachments": {},
   "cell_type": "markdown",
   "id": "404d76fb",
   "metadata": {},
   "source": [
    "As you can See it's a linear function(it doesn't turn,just a stright line) \n",
    "\n",
    "You don't need to know this for now but just giving a headsup"
   ]
  },
  {
   "attachments": {},
   "cell_type": "markdown",
   "id": "159e9a7d",
   "metadata": {},
   "source": [
    "## using with library"
   ]
  },
  {
   "attachments": {},
   "cell_type": "markdown",
   "id": "8f291164",
   "metadata": {},
   "source": [
    "Let's Create a respective variables we needed\n",
    "\n",
    "initialize them as \n",
    "\n",
    "W = 2\n",
    "\n",
    "y = 8\n",
    "\n",
    "W = weights -> which is a going to contains the answer for question mark on our problem `2*?=8` \n",
    "\n",
    "but for now it contains some random value like 2\n",
    "\n",
    "y = It's going to be our output Value -> 8"
   ]
  },
  {
   "cell_type": "code",
   "execution_count": 443,
   "id": "4224aa8f",
   "metadata": {},
   "outputs": [],
   "source": [
    "w = torch.tensor(2.0) ; w.requires_grad=True"
   ]
  },
  {
   "attachments": {},
   "cell_type": "markdown",
   "id": "8ce13b73",
   "metadata": {},
   "source": [
    "Now you probably thinking if you never used Torch What is `Requires_grad` means\n",
    "\n",
    "Well this is what going to do the calculus(learning of the neural Network) behind the scene\n",
    "\n",
    "We will see this in detail below just hang in there "
   ]
  },
  {
   "cell_type": "code",
   "execution_count": 444,
   "id": "91fca3c1",
   "metadata": {},
   "outputs": [],
   "source": [
    "y = 8"
   ]
  },
  {
   "attachments": {},
   "cell_type": "markdown",
   "id": "af2fb1ec",
   "metadata": {},
   "source": [
    "Let's do the prediction \n",
    "\n",
    "passing the `w = 2` into our function the output should be the predicted value of our model \n",
    "\n",
    "as for now we didn't train our model so it's going to be random\n",
    "\n",
    "in this case it's going to be `4`"
   ]
  },
  {
   "cell_type": "code",
   "execution_count": 445,
   "id": "db7af5f3",
   "metadata": {},
   "outputs": [
    {
     "data": {
      "text/plain": [
       "tensor(4., grad_fn=<MulBackward0>)"
      ]
     },
     "execution_count": 445,
     "metadata": {},
     "output_type": "execute_result"
    }
   ],
   "source": [
    "pred = f(w)\n",
    "pred"
   ]
  },
  {
   "attachments": {},
   "cell_type": "markdown",
   "id": "ebabbdbb",
   "metadata": {},
   "source": [
    "Now let's calculate the distance between our prediction and the desired output \n",
    "\n",
    "`8 - 4` \n",
    "\n",
    "Which gives the output of \n",
    "\n",
    "`4`\n",
    "\n",
    "Now this is our loss value \n",
    "\n",
    "What is loss ??\n",
    "\n",
    "How much our model is wrong about the data (what's the distance between the desired output and model's prediction)"
   ]
  },
  {
   "cell_type": "code",
   "execution_count": 446,
   "id": "cfa76e24",
   "metadata": {},
   "outputs": [
    {
     "data": {
      "text/plain": [
       "tensor(4., grad_fn=<RsubBackward1>)"
      ]
     },
     "execution_count": 446,
     "metadata": {},
     "output_type": "execute_result"
    }
   ],
   "source": [
    "loss = y - pred \n",
    "loss"
   ]
  },
  {
   "attachments": {},
   "cell_type": "markdown",
   "id": "160a460a",
   "metadata": {},
   "source": [
    "Now let's do the backward pass \n",
    "\n",
    "What is backward pass ?\n",
    "\n",
    "This is where our model could figure out what are the things it needs to change to minimize the loss\n",
    "\n",
    "(in our case it's the W value)\n",
    "\n",
    "If you still don't know what i'm talking about it's ok it's normal trust me just again hang in there ....\n",
    "\n",
    "it's going to get pretty clear...."
   ]
  },
  {
   "cell_type": "code",
   "execution_count": 447,
   "id": "44c5d2a8",
   "metadata": {},
   "outputs": [],
   "source": [
    "loss.backward()"
   ]
  },
  {
   "attachments": {},
   "cell_type": "markdown",
   "id": "f22b5454",
   "metadata": {},
   "source": [
    "Now note here it's important \n",
    "\n",
    "You know that our `W` value is `2` \n",
    "\n",
    "but when i get the `gradient` attribute of our `W`\n",
    "\n",
    "we get `-2` \n",
    "\n",
    "What ????\n",
    "\n",
    "what is gradient ??\n",
    "\n",
    "and where did the `-2` came from\n",
    "\n",
    "shhhhhh.......\n",
    "sh...\n",
    "calm down... \n",
    "\n",
    "everything will be cleared.. as soon as we start break it down and build our own model"
   ]
  },
  {
   "cell_type": "code",
   "execution_count": 448,
   "id": "815987cd",
   "metadata": {},
   "outputs": [
    {
     "data": {
      "text/plain": [
       "tensor(-2.)"
      ]
     },
     "execution_count": 448,
     "metadata": {},
     "output_type": "execute_result"
    }
   ],
   "source": [
    "w.grad#for now note this value"
   ]
  },
  {
   "attachments": {},
   "cell_type": "markdown",
   "id": "d3734588",
   "metadata": {},
   "source": [
    "Now this is something really intresting \n",
    "\n",
    "AS you can see i'm doing lot of stuff's here \n",
    "\n",
    "which in neural network is called `updating the parameters`\n",
    "\n",
    "which as you can see \n",
    "************************************************\n",
    "\n",
    "we are getting the `w value` = 2 (w.data == just getting the data of the `w` as `int` and not as `torch.tensor` type)\n",
    "\n",
    "************************************************\n",
    "\n",
    "and after that we are updating the w value with some sort of formula which consist of \n",
    "\n",
    "`-` minus operator\n",
    "\n",
    "`0.1` some small number(which is also called as learning rate)\n",
    "\n",
    "`w.grad` which is a gradient(magic number for our model) = `-2`\n",
    "\n",
    "and we will discuss this later in this notebook\n"
   ]
  },
  {
   "cell_type": "code",
   "execution_count": 449,
   "id": "7b4d479a",
   "metadata": {},
   "outputs": [
    {
     "data": {
      "text/plain": [
       "tensor(2.2000, requires_grad=True)"
      ]
     },
     "execution_count": 449,
     "metadata": {},
     "output_type": "execute_result"
    }
   ],
   "source": [
    "w.data = w.data - 0.1* w.grad# for now note the w original data 2 changed into 2.2\n",
    "w"
   ]
  },
  {
   "cell_type": "code",
   "execution_count": 450,
   "id": "cf1dbe6b",
   "metadata": {},
   "outputs": [
    {
     "data": {
      "text/plain": [
       "tensor(4.4000, grad_fn=<MulBackward0>)"
      ]
     },
     "execution_count": 450,
     "metadata": {},
     "output_type": "execute_result"
    }
   ],
   "source": [
    "pred = f(w)\n",
    "pred# which indeed changes our prediction value 2*2.2 = 4.4"
   ]
  },
  {
   "cell_type": "code",
   "execution_count": 451,
   "id": "dcbef881",
   "metadata": {},
   "outputs": [
    {
     "data": {
      "text/plain": [
       "tensor(2.4000, requires_grad=True)"
      ]
     },
     "execution_count": 451,
     "metadata": {},
     "output_type": "execute_result"
    }
   ],
   "source": [
    "w.data = w.data - 0.1 * w.grad\n",
    "w"
   ]
  },
  {
   "cell_type": "code",
   "execution_count": 452,
   "id": "6f5c8893",
   "metadata": {},
   "outputs": [
    {
     "data": {
      "text/plain": [
       "tensor(4.8000, grad_fn=<MulBackward0>)"
      ]
     },
     "execution_count": 452,
     "metadata": {},
     "output_type": "execute_result"
    }
   ],
   "source": [
    "pred = f(w)\n",
    "pred# which indeed changes our prediction value-> 2*2.4 = 4.8"
   ]
  },
  {
   "attachments": {},
   "cell_type": "markdown",
   "id": "8eae6571",
   "metadata": {},
   "source": [
    "and so on , so on ... sooo onnnn \n",
    "\n",
    "so let's do this in for loop and let's see what is going to happen after a while "
   ]
  },
  {
   "cell_type": "code",
   "execution_count": 453,
   "id": "0c41967f",
   "metadata": {},
   "outputs": [],
   "source": [
    "#just redeclaring the w and y for convience sake\n",
    "w = torch.tensor(2.0);w.requires_grad=True\n",
    "y = 8"
   ]
  },
  {
   "cell_type": "code",
   "execution_count": 454,
   "id": "df5fd5fe",
   "metadata": {},
   "outputs": [
    {
     "name": "stdout",
     "output_type": "stream",
     "text": [
      "loss is  3.5999999046325684\n",
      "loss is  3.1999998092651367\n",
      "loss is  2.799999713897705\n",
      "loss is  2.3999996185302734\n",
      "loss is  1.9999995231628418\n",
      "loss is  1.5999994277954102\n",
      "loss is  1.1999993324279785\n",
      "loss is  0.7999992370605469\n",
      "loss is  0.39999914169311523\n",
      "loss is  -9.5367431640625e-07\n"
     ]
    }
   ],
   "source": [
    "for _ in range(10):\n",
    "    pred = f(w)\n",
    "    \n",
    "    loss = y-pred\n",
    "    \n",
    "    w.grad = None\n",
    "    \n",
    "    loss.backward()\n",
    "    \n",
    "    w.data -= 0.1 * w.grad\n",
    "    \n",
    "    pred = f(w)\n",
    "    \n",
    "    loss = y-pred\n",
    "    print(f\"loss is  {loss}\")"
   ]
  },
  {
   "attachments": {},
   "cell_type": "markdown",
   "id": "d5d72ba2",
   "metadata": {},
   "source": [
    "wow!! holy s... ok i'm not going to say the word but do you know what happened now \n",
    "\n",
    "our loss is $10^-7$ (10 to the power -7) move the decimal number to 7 numbers to the right\n",
    "\n",
    "0.00000095367....\n",
    "\n",
    "which as you can see is really low\n",
    "\n",
    "let's see the w value\n"
   ]
  },
  {
   "cell_type": "code",
   "execution_count": 455,
   "id": "52738a0f",
   "metadata": {},
   "outputs": [
    {
     "data": {
      "text/plain": [
       "tensor(4.0000)"
      ]
     },
     "execution_count": 455,
     "metadata": {},
     "output_type": "execute_result"
    }
   ],
   "source": [
    "w.data # it's the right answer 4 "
   ]
  },
  {
   "cell_type": "code",
   "execution_count": 456,
   "id": "0e728533",
   "metadata": {},
   "outputs": [
    {
     "data": {
      "text/plain": [
       "tensor(8.0000, grad_fn=<MulBackward0>)"
      ]
     },
     "execution_count": 456,
     "metadata": {},
     "output_type": "execute_result"
    }
   ],
   "source": [
    "f(w)"
   ]
  },
  {
   "attachments": {},
   "cell_type": "markdown",
   "id": "182d2637",
   "metadata": {},
   "source": [
    "yeahhiiiiiii \n",
    "\n",
    "🥳 wow there we go we got the right answer\n",
    "\n",
    "bye........just kidding \n",
    "\n",
    "😂\n",
    "\n",
    "more than ever now you have more questions \n",
    "\n",
    "I know i've been there \n",
    "\n",
    "so let's answer it one by one \n",
    "\n",
    "by building our own model"
   ]
  },
  {
   "cell_type": "markdown",
   "id": "cb0b3206",
   "metadata": {},
   "source": [
    "Doing By hand without any libraries\n",
    "\n",
    "step by step and automatic "
   ]
  },
  {
   "cell_type": "markdown",
   "id": "6975cead",
   "metadata": {},
   "source": [
    "## Step By Step"
   ]
  },
  {
   "attachments": {},
   "cell_type": "markdown",
   "id": "93b6c920",
   "metadata": {},
   "source": [
    "Ha here we can see there is no library just pure python codes and number's \n",
    "\n",
    "agian the same \n",
    "\n",
    "`w` `y`"
   ]
  },
  {
   "cell_type": "code",
   "execution_count": 457,
   "id": "8432b793",
   "metadata": {},
   "outputs": [],
   "source": [
    "w = 2\n",
    "y = 8"
   ]
  },
  {
   "cell_type": "code",
   "execution_count": 458,
   "id": "dae13747",
   "metadata": {},
   "outputs": [
    {
     "data": {
      "text/plain": [
       "4"
      ]
     },
     "execution_count": 458,
     "metadata": {},
     "output_type": "execute_result"
    }
   ],
   "source": [
    "pred=  f(w)\n",
    "pred"
   ]
  },
  {
   "cell_type": "code",
   "execution_count": 459,
   "id": "71098508",
   "metadata": {},
   "outputs": [
    {
     "data": {
      "text/plain": [
       "4"
      ]
     },
     "execution_count": 459,
     "metadata": {},
     "output_type": "execute_result"
    }
   ],
   "source": [
    "loss = y-pred\n",
    "loss"
   ]
  },
  {
   "cell_type": "code",
   "execution_count": 460,
   "id": "3c0aa9a9",
   "metadata": {},
   "outputs": [
    {
     "data": {
      "text/plain": [
       "-2"
      ]
     },
     "execution_count": 460,
     "metadata": {},
     "output_type": "execute_result"
    }
   ],
   "source": [
    "w_grad = -2# again we are getting close to finding where did this number came from......\n",
    "w_grad"
   ]
  },
  {
   "cell_type": "code",
   "execution_count": 461,
   "id": "0e592c6a",
   "metadata": {},
   "outputs": [
    {
     "data": {
      "text/plain": [
       "2.2"
      ]
     },
     "execution_count": 461,
     "metadata": {},
     "output_type": "execute_result"
    }
   ],
   "source": [
    "w -= 0.1*w_grad\n",
    "w"
   ]
  },
  {
   "cell_type": "code",
   "execution_count": 462,
   "id": "74326332",
   "metadata": {},
   "outputs": [
    {
     "data": {
      "text/plain": [
       "4.4"
      ]
     },
     "execution_count": 462,
     "metadata": {},
     "output_type": "execute_result"
    }
   ],
   "source": [
    "pred = f(w)\n",
    "pred"
   ]
  },
  {
   "attachments": {},
   "cell_type": "markdown",
   "id": "39058689",
   "metadata": {},
   "source": [
    "just making our future self easy to calculate the loss by functionizing it  "
   ]
  },
  {
   "cell_type": "code",
   "execution_count": 463,
   "id": "06d103de",
   "metadata": {},
   "outputs": [],
   "source": [
    "def loss(y,pred):\n",
    "    return y - pred"
   ]
  },
  {
   "cell_type": "code",
   "execution_count": 464,
   "id": "d8c515c1",
   "metadata": {},
   "outputs": [
    {
     "data": {
      "text/plain": [
       "3.5999999999999996"
      ]
     },
     "execution_count": 464,
     "metadata": {},
     "output_type": "execute_result"
    }
   ],
   "source": [
    "l = loss(y,pred)\n",
    "l#it's decreasing as it should"
   ]
  },
  {
   "cell_type": "markdown",
   "id": "c396f170",
   "metadata": {},
   "source": [
    "## automating the process again"
   ]
  },
  {
   "cell_type": "code",
   "execution_count": 465,
   "id": "db21ed83",
   "metadata": {},
   "outputs": [],
   "source": [
    "def f(w):\n",
    "    return 2*w"
   ]
  },
  {
   "cell_type": "code",
   "execution_count": 466,
   "id": "23841064",
   "metadata": {},
   "outputs": [],
   "source": [
    "w = 2\n",
    "y = 24\n",
    "h = 0.1"
   ]
  },
  {
   "cell_type": "code",
   "execution_count": 467,
   "id": "59f44009",
   "metadata": {},
   "outputs": [
    {
     "name": "stdout",
     "output_type": "stream",
     "text": [
      "loss is  19.6\n",
      "loss is  18.799999999999997\n",
      "loss is  18.0\n",
      "loss is  17.199999999999996\n",
      "loss is  16.4\n",
      "loss is  15.599999999999996\n",
      "loss is  14.799999999999995\n",
      "loss is  13.999999999999995\n",
      "loss is  13.199999999999994\n",
      "loss is  12.399999999999993\n",
      "loss is  11.599999999999993\n",
      "loss is  10.799999999999992\n",
      "loss is  9.999999999999991\n",
      "loss is  9.19999999999999\n",
      "loss is  8.39999999999999\n",
      "loss is  7.599999999999991\n",
      "loss is  6.799999999999994\n",
      "loss is  5.9999999999999964\n",
      "loss is  5.199999999999999\n",
      "loss is  4.400000000000002\n",
      "loss is  3.600000000000005\n",
      "loss is  2.800000000000008\n",
      "loss is  2.0000000000000107\n",
      "loss is  1.2000000000000135\n",
      "loss is  0.40000000000001634\n"
     ]
    }
   ],
   "source": [
    "for i in range(50):\n",
    "    pred = f(w)\n",
    "    w_grad = 2 * -1\n",
    "    w -= h * w_grad\n",
    "    pred = f(w)\n",
    "    l = loss(y,pred)\n",
    "    if i % 2 == 0:\n",
    "        print(f\"loss is  {l}\")"
   ]
  },
  {
   "cell_type": "code",
   "execution_count": 468,
   "id": "d64f61f4",
   "metadata": {},
   "outputs": [
    {
     "data": {
      "text/plain": [
       "11.999999999999991"
      ]
     },
     "execution_count": 468,
     "metadata": {},
     "output_type": "execute_result"
    }
   ],
   "source": [
    "w"
   ]
  },
  {
   "cell_type": "code",
   "execution_count": 469,
   "id": "29d316ee",
   "metadata": {},
   "outputs": [
    {
     "data": {
      "text/plain": [
       "23.999999999999982"
      ]
     },
     "execution_count": 469,
     "metadata": {},
     "output_type": "execute_result"
    }
   ],
   "source": [
    "pred = f(w)\n",
    "pred"
   ]
  },
  {
   "attachments": {},
   "cell_type": "markdown",
   "id": "893ad077",
   "metadata": {},
   "source": [
    "Ok we did the same thing without any libraries by just using pure python coding and the output we got is again the correct one\n",
    "\n",
    "24\n",
    "\n",
    "but now at this point you probabily have two question \n",
    "\n",
    "one is \n",
    "\n",
    "`what is this -2 number where did this came from (calculus)`\n",
    "\n",
    "and\n",
    "\n",
    "`how is the w value increasing to the right amount`\n",
    "\n",
    "let's look at the first question with a problem called \n",
    "\n",
    "`finding the gradient`"
   ]
  },
  {
   "cell_type": "markdown",
   "id": "37e1c242",
   "metadata": {},
   "source": [
    "## the calculas behind the scene "
   ]
  },
  {
   "attachments": {},
   "cell_type": "markdown",
   "id": "7719e22b",
   "metadata": {},
   "source": [
    "what is the gradient \n",
    "\n",
    "well first let me show you where i learn't it when i started this pet project \n",
    "\n",
    "[click me](https://www.youtube.com/watch?v=-ktrtzYVk_I&list=PL3j1ntBPCU_om5O1RBi5-vDRwVTvDwyeV&ab_channel=NancyPi)\n",
    "\n",
    "which is explained by an angel (i mean literaly she is so beautifull😙) sorry for perving out \n",
    "\n",
    "but i'm not kidding she will explain every concept so easily and intrestingly enough that you will never forget\n",
    "\n",
    "but if you want the summary of the information\n",
    "\n",
    "`gradient is like the growing factor of a given function`"
   ]
  },
  {
   "cell_type": "code",
   "execution_count": 470,
   "id": "7d0feeea",
   "metadata": {},
   "outputs": [
    {
     "data": {
      "text/plain": [
       "4"
      ]
     },
     "execution_count": 470,
     "metadata": {},
     "output_type": "execute_result"
    }
   ],
   "source": [
    "# let's break that sentence down\n",
    "\n",
    "#let's take the example of 2*2 our problem statement\n",
    "x = 2\n",
    "w = 2\n",
    "pred = x*w\n",
    "pred\n",
    "# now i have a question for you how much does the pred change if i increase the w  "
   ]
  },
  {
   "cell_type": "code",
   "execution_count": 471,
   "id": "0d85797d",
   "metadata": {},
   "outputs": [
    {
     "data": {
      "text/plain": [
       "6"
      ]
     },
     "execution_count": 471,
     "metadata": {},
     "output_type": "execute_result"
    }
   ],
   "source": [
    "#let's see it in action\n",
    "x = 2\n",
    "w = 3\n",
    "pred = x*w\n",
    "pred # whoa it's changed two time the previous value don't trust me "
   ]
  },
  {
   "cell_type": "code",
   "execution_count": 472,
   "id": "ea0d337e",
   "metadata": {},
   "outputs": [
    {
     "data": {
      "text/plain": [
       "2"
      ]
     },
     "execution_count": 472,
     "metadata": {},
     "output_type": "execute_result"
    }
   ],
   "source": [
    "# here is the proff\n",
    "6-4"
   ]
  },
  {
   "cell_type": "code",
   "execution_count": 473,
   "id": "03f2ea40",
   "metadata": {},
   "outputs": [
    {
     "data": {
      "text/plain": [
       "8"
      ]
     },
     "execution_count": 473,
     "metadata": {},
     "output_type": "execute_result"
    }
   ],
   "source": [
    "# again changing the w \n",
    "x = 2\n",
    "w = 4\n",
    "pred = x*w\n",
    "pred# again the same two times the previous value"
   ]
  },
  {
   "cell_type": "code",
   "execution_count": 474,
   "id": "6f805eda",
   "metadata": {},
   "outputs": [
    {
     "data": {
      "text/plain": [
       "2"
      ]
     },
     "execution_count": 474,
     "metadata": {},
     "output_type": "execute_result"
    }
   ],
   "source": [
    "# here is the proff\n",
    "8-6"
   ]
  },
  {
   "attachments": {},
   "cell_type": "markdown",
   "id": "4eb054c4",
   "metadata": {},
   "source": [
    "### but what if i changed the x value a little bit and increased the w value "
   ]
  },
  {
   "cell_type": "code",
   "execution_count": 475,
   "id": "90f9c231",
   "metadata": {},
   "outputs": [
    {
     "name": "stdout",
     "output_type": "stream",
     "text": [
      "6 9 12\n"
     ]
    }
   ],
   "source": [
    "x = 3#changed the x => 2 -> 3\n",
    "w = 2# is same\n",
    "pred_1 = x*w\n",
    "\n",
    "w = 3#changed from w=> 2 -> 3 \n",
    "pred_2 = x*w\n",
    "\n",
    "w = 4# changed again\n",
    "pred_3 = x*w\n",
    "\n",
    "#printing the output\n",
    "print(pred_1,pred_2,pred_3)"
   ]
  },
  {
   "cell_type": "code",
   "execution_count": 476,
   "id": "d4e65bad",
   "metadata": {},
   "outputs": [
    {
     "data": {
      "text/plain": [
       "(3, 3)"
      ]
     },
     "execution_count": 476,
     "metadata": {},
     "output_type": "execute_result"
    }
   ],
   "source": [
    "# now the difference \n",
    "9-6,12-9# no wonder it's rate of change is 3 times "
   ]
  },
  {
   "attachments": {},
   "cell_type": "markdown",
   "id": "96171b34",
   "metadata": {},
   "source": [
    "So at this point you got the idea that \n",
    "\n",
    "if i changed `w` it's going to increase the prediction value in a rate of `x` times"
   ]
  },
  {
   "attachments": {},
   "cell_type": "markdown",
   "id": "d511e5b9",
   "metadata": {},
   "source": [
    "## And Gentlemens and ladies this is what called gradient value\n",
    "\n",
    "which is saying that what is a amount of change occur in a prediction if i change the `w` \n",
    "\n",
    "the answer is `x`\n",
    "\n",
    "that's the amount of change going to happen\n",
    "\n",
    "**that's the derivative of the multiplication function**\n",
    "\n",
    "and the gradient is the `x` value\n",
    "\n",
    "at first problem we had `x` value has `2`\n",
    "\n",
    "so there our `w` gradient value is `2`\n",
    "\n",
    "and now we changed our `x` value into `3`\n",
    "\n",
    "now the gradient value for `w` is `3`"
   ]
  },
  {
   "attachments": {},
   "cell_type": "markdown",
   "id": "79ae7841",
   "metadata": {},
   "source": [
    "### so now we know what is the derivative of our multiplicative function is \n",
    "\n",
    "pred = x*w\n",
    "\n",
    "with respective w (if i change w in a slight way how much it's going to change the pred value)\n",
    "\n",
    "answer is :-> x (amount)\n",
    "\n",
    "and yes viseversa\n",
    "\n",
    "pred = x*w\n",
    "\n",
    "with respective x (if i change x in a slight way how much it's going to change the pred value)\n",
    "\n",
    "answer is :-> w (amount)"
   ]
  },
  {
   "cell_type": "code",
   "execution_count": 477,
   "id": "d3961589",
   "metadata": {},
   "outputs": [
    {
     "data": {
      "text/plain": [
       "2"
      ]
     },
     "execution_count": 477,
     "metadata": {},
     "output_type": "execute_result"
    }
   ],
   "source": [
    "#let's call our derivative of the w (dw)\n",
    "x = 2\n",
    "w = 2\n",
    "y = 8 \n",
    "dw = x\n",
    "dw#the gradient value is 2"
   ]
  },
  {
   "attachments": {},
   "cell_type": "markdown",
   "id": "085bb2fe",
   "metadata": {},
   "source": [
    "### ok until now we got the gradient value has 2 \n",
    "\n",
    "but if you can recall we had a -2 has a gradient before\n",
    "\n",
    "so let's find our where we got the `-` symbol"
   ]
  },
  {
   "cell_type": "code",
   "execution_count": 478,
   "id": "0c99c883",
   "metadata": {},
   "outputs": [
    {
     "name": "stdout",
     "output_type": "stream",
     "text": [
      "the prediction value before changing the w: 4\n",
      "the loss value before changing w: 4\n",
      "the prediction value after changing the w: 6\n",
      "the loss value after changing the w : 2\n"
     ]
    }
   ],
   "source": [
    "#let's check how much does the loss change with repective w\n",
    "\n",
    "x = 2\n",
    "w = 2\n",
    "dw = x\n",
    "y = 8\n",
    "pred = x*w\n",
    "print(f\"the prediction value before changing the w: {pred}\")\n",
    "print(f\"the loss value before changing w: {loss(y,pred)}\")\n",
    "\n",
    "\n",
    "w = 3 \n",
    "pred = x*w\n",
    "print(f\"the prediction value after changing the w: {pred}\")\n",
    "print(f\"the loss value after changing the w : {loss(y,pred)}\")\n"
   ]
  },
  {
   "attachments": {},
   "cell_type": "markdown",
   "id": "c0bf2e34",
   "metadata": {},
   "source": [
    "we know why we got the prediction->6 \n",
    "\n",
    "but what about loss->2\n",
    "\n",
    "so turn's out that our loss contain the formula of \n",
    "\n",
    "`y-pred` -> (8-4)\n",
    "\n",
    "which has minus value \n",
    "\n",
    "so what ever value your going to give to the pred it's value is going to change in - value because again we are reducing from 8\n",
    "\n",
    "so with respective to minus operator \n",
    "\n",
    "we will get -1 \n",
    "\n",
    "and for plus operator we get the opposite as you may already guessed it \n",
    "\n",
    "+1"
   ]
  },
  {
   "cell_type": "code",
   "execution_count": 479,
   "id": "d83aea37",
   "metadata": {},
   "outputs": [
    {
     "data": {
      "text/plain": [
       "6"
      ]
     },
     "execution_count": 479,
     "metadata": {},
     "output_type": "execute_result"
    }
   ],
   "source": [
    "w = 2\n",
    "y = 8\n",
    "l = y - w\n",
    "l"
   ]
  },
  {
   "cell_type": "code",
   "execution_count": 480,
   "id": "13ed5e20",
   "metadata": {},
   "outputs": [
    {
     "data": {
      "text/plain": [
       "5"
      ]
     },
     "execution_count": 480,
     "metadata": {},
     "output_type": "execute_result"
    }
   ],
   "source": [
    "w = 3 \n",
    "y = 8\n",
    "l = y-w\n",
    "l"
   ]
  },
  {
   "cell_type": "code",
   "execution_count": 481,
   "id": "8624f6cc",
   "metadata": {},
   "outputs": [
    {
     "data": {
      "text/plain": [
       "4"
      ]
     },
     "execution_count": 481,
     "metadata": {},
     "output_type": "execute_result"
    }
   ],
   "source": [
    "w = 4#it's dw value is 0 (because it's just a constant it's not going to change with it's input)\n",
    "y = 8\n",
    "l = y-w\n",
    "l"
   ]
  },
  {
   "attachments": {},
   "cell_type": "markdown",
   "id": "fa50b96f",
   "metadata": {},
   "source": [
    "You get the idea \n",
    "\n",
    "but we also have a x (you can see in the above example we didn't take the prediction formula x*w)\n",
    "\n",
    "we know that our w has a dw which is 2 \n",
    "\n",
    "so now we use chain rule which is (chain rule = multiplying the current gradient value to the previous gradient)\n",
    "\n",
    "dl*dw (here dl = l derivative)"
   ]
  },
  {
   "cell_type": "code",
   "execution_count": 482,
   "id": "d94725f9",
   "metadata": {},
   "outputs": [
    {
     "data": {
      "text/plain": [
       "-2"
      ]
     },
     "execution_count": 482,
     "metadata": {},
     "output_type": "execute_result"
    }
   ],
   "source": [
    "# now with repective w \n",
    "dl = -1\n",
    "dw = 2 * dl\n",
    "dw"
   ]
  },
  {
   "attachments": {},
   "cell_type": "markdown",
   "id": "afc62c39",
   "metadata": {},
   "source": [
    "yeahhhhhh .... 🥳\n",
    "and that's the gradient and calculas part of the neural network\n",
    "\n",
    "the fundamentals are not gonna change\n",
    "\n",
    "and this is the fundamentals 🥳\n",
    "\n",
    "if you want to understand it with more example i highly recommed you watch the angel(🥰😇) video"
   ]
  },
  {
   "attachments": {},
   "cell_type": "markdown",
   "id": "802ad8a6",
   "metadata": {},
   "source": [
    "In summary\n",
    "\n",
    "`loss = y - pred` \n",
    "\n",
    "dl/dl = -1\n",
    "\n",
    "`pred = x*w`\n",
    "\n",
    "dl/dx = w\n",
    "\n",
    "dl/dw = x"
   ]
  },
  {
   "attachments": {},
   "cell_type": "markdown",
   "id": "06e4c08f",
   "metadata": {},
   "source": [
    "### now you have second question \n",
    "\n",
    "updation \n",
    "\n",
    "w = 2\n",
    "\n",
    "x = 2 \n",
    "\n",
    "dw = x\n",
    "\n",
    "`w = w - 0.1 * dw`\n",
    "\n",
    "**************************************\n",
    "\n",
    "For this you need to understand what does the gradient value tell's us \n",
    "\n",
    "let's take this example"
   ]
  },
  {
   "cell_type": "code",
   "execution_count": 483,
   "id": "98061c70",
   "metadata": {},
   "outputs": [
    {
     "data": {
      "text/plain": [
       "4"
      ]
     },
     "execution_count": 483,
     "metadata": {},
     "output_type": "execute_result"
    }
   ],
   "source": [
    "w = 2\n",
    "x = 2\n",
    "pred = x*w\n",
    "l = loss(y,pred)\n",
    "dl = -1\n",
    "dw = x * dl\n",
    "l"
   ]
  },
  {
   "attachments": {},
   "cell_type": "markdown",
   "id": "a8b45d84",
   "metadata": {},
   "source": [
    "#### now our gradient value dw=-2 is telling us if we decrease the w value by 2 \n",
    "\n",
    "we increase the loss (but we don't want to increase the loss we decrease the loss for getting the correct answer)\n",
    "\n",
    "so  we increase the w value by 2 \n",
    "\n",
    "(generalizing the formula would be \n",
    "\n",
    "`w = w - (-w_grad)`\n",
    " \n",
    " which would increase and and if we got plus gradient value \n",
    " \n",
    " `w = w - (w_grad)` \n",
    " \n",
    " it would decrease the w as we want to) "
   ]
  },
  {
   "cell_type": "code",
   "execution_count": 484,
   "id": "f676750a",
   "metadata": {},
   "outputs": [
    {
     "data": {
      "text/plain": [
       "4"
      ]
     },
     "execution_count": 484,
     "metadata": {},
     "output_type": "execute_result"
    }
   ],
   "source": [
    "w = w - dw # note here we didn't use the small value 0.1\n",
    "w "
   ]
  },
  {
   "attachments": {},
   "cell_type": "markdown",
   "id": "94de0070",
   "metadata": {},
   "source": [
    "Great here we go the 4 with just one step of running the code (we didn't use the for loop like before)\n",
    "\n",
    "so why do we need to use the small value if we can do this in this way easily \n",
    "\n",
    "for that let's take the another example"
   ]
  },
  {
   "cell_type": "code",
   "execution_count": 485,
   "id": "f4ea15f1",
   "metadata": {},
   "outputs": [
    {
     "name": "stdout",
     "output_type": "stream",
     "text": [
      "loss is : 6\n"
     ]
    }
   ],
   "source": [
    "x = 2 \n",
    "w = 2\n",
    "y = 10\n",
    "\n",
    "pred = f(w)\n",
    "l = loss(y,pred)\n",
    "\n",
    "dl = -1\n",
    "dw = x * dl\n",
    "\n",
    "print(f\"loss is : {l}\")"
   ]
  },
  {
   "cell_type": "code",
   "execution_count": 486,
   "id": "41049257",
   "metadata": {},
   "outputs": [
    {
     "name": "stdout",
     "output_type": "stream",
     "text": [
      "loss is : 2\n"
     ]
    }
   ],
   "source": [
    "w = w - dw\n",
    "\n",
    "pred = f(w)\n",
    "l = loss(y,pred)\n",
    "\n",
    "print(f\"loss is : {l}\")"
   ]
  },
  {
   "cell_type": "code",
   "execution_count": 487,
   "id": "d7348b1c",
   "metadata": {},
   "outputs": [
    {
     "name": "stdout",
     "output_type": "stream",
     "text": [
      "loss is : -2\n"
     ]
    }
   ],
   "source": [
    "w = w - dw\n",
    "\n",
    "pred = f(w)\n",
    "l = loss(y,pred)\n",
    "\n",
    "print(f\"loss is : {l}\")"
   ]
  },
  {
   "attachments": {},
   "cell_type": "markdown",
   "id": "dca58f89",
   "metadata": {},
   "source": [
    "Here in this example as you can see it's overshooting the loss \n",
    "\n",
    "which means\n",
    "\n",
    "the w value is going to go larger than what we want it to be\n"
   ]
  },
  {
   "cell_type": "code",
   "execution_count": 488,
   "id": "f7f57d78",
   "metadata": {},
   "outputs": [
    {
     "data": {
      "text/plain": [
       "6"
      ]
     },
     "execution_count": 488,
     "metadata": {},
     "output_type": "execute_result"
    }
   ],
   "source": [
    "w # but we know that 2 * 5  = 10 and not 2 * 6 = 10"
   ]
  },
  {
   "attachments": {},
   "cell_type": "markdown",
   "id": "ebcb7313",
   "metadata": {},
   "source": [
    "so if we decrease the the w value with small amount of gradient at a step we would converge to the loss smoothly and preciesly"
   ]
  },
  {
   "cell_type": "code",
   "execution_count": 489,
   "id": "050dd48a",
   "metadata": {},
   "outputs": [
    {
     "name": "stdout",
     "output_type": "stream",
     "text": [
      "loss is : 6\n"
     ]
    }
   ],
   "source": [
    "x = 2 \n",
    "w = 2\n",
    "y = 10\n",
    "\n",
    "pred = f(w)\n",
    "l = loss(y,pred)\n",
    "\n",
    "dl = -1\n",
    "dw = x * dl\n",
    "\n",
    "print(f\"loss is : {l}\")"
   ]
  },
  {
   "cell_type": "code",
   "execution_count": 490,
   "id": "685bc430",
   "metadata": {},
   "outputs": [
    {
     "name": "stdout",
     "output_type": "stream",
     "text": [
      "loss is : 5.6\n"
     ]
    }
   ],
   "source": [
    "w = w - 0.1*dw\n",
    "\n",
    "pred = f(w)\n",
    "l = loss(y,pred)\n",
    "\n",
    "print(f\"loss is : {l}\")"
   ]
  },
  {
   "cell_type": "code",
   "execution_count": 491,
   "id": "73d9109d",
   "metadata": {},
   "outputs": [
    {
     "name": "stdout",
     "output_type": "stream",
     "text": [
      "loss is : 5.199999999999999\n"
     ]
    }
   ],
   "source": [
    "w = w - 0.1*dw\n",
    "\n",
    "pred = f(w)\n",
    "l = loss(y,pred)\n",
    "\n",
    "print(f\"loss is : {l}\")"
   ]
  },
  {
   "cell_type": "code",
   "execution_count": 492,
   "id": "3cadad68",
   "metadata": {},
   "outputs": [
    {
     "name": "stdout",
     "output_type": "stream",
     "text": [
      "loss is : 4.799999999999999\n"
     ]
    }
   ],
   "source": [
    "w = w - 0.1*dw\n",
    "\n",
    "pred = f(w)\n",
    "l = loss(y,pred)\n",
    "\n",
    "print(f\"loss is : {l}\")"
   ]
  },
  {
   "attachments": {},
   "cell_type": "markdown",
   "id": "ebf6fb5d",
   "metadata": {},
   "source": [
    "You get the idea let's for loop the shit out of this..."
   ]
  },
  {
   "cell_type": "code",
   "execution_count": 493,
   "id": "a2453c05",
   "metadata": {},
   "outputs": [
    {
     "name": "stdout",
     "output_type": "stream",
     "text": [
      "loss is : 4.399999999999999\n",
      "loss is : 3.9999999999999982\n",
      "loss is : 3.599999999999998\n",
      "loss is : 3.1999999999999975\n",
      "loss is : 2.799999999999997\n",
      "loss is : 2.399999999999997\n",
      "loss is : 1.9999999999999964\n",
      "loss is : 1.599999999999996\n",
      "loss is : 1.1999999999999957\n",
      "loss is : 0.7999999999999954\n"
     ]
    }
   ],
   "source": [
    "for _ in range(10):# this 10 is also called epochs value (eg: epochs value for this model is 10)\n",
    "    w = w - 0.1*dw\n",
    "    pred = f(w)\n",
    "    l = loss(y,pred)\n",
    "\n",
    "    print(f\"loss is : {l}\")"
   ]
  },
  {
   "cell_type": "code",
   "execution_count": 494,
   "id": "4cd2e003",
   "metadata": {},
   "outputs": [
    {
     "data": {
      "text/plain": [
       "(4.600000000000002, 5)"
      ]
     },
     "execution_count": 494,
     "metadata": {},
     "output_type": "execute_result"
    }
   ],
   "source": [
    "w,round(w)#normal w value and rounded of w value"
   ]
  },
  {
   "attachments": {},
   "cell_type": "markdown",
   "id": "63b03abe",
   "metadata": {},
   "source": [
    "Yes it would take lot of time and iteration to converge but heyyyy it's atleast precise"
   ]
  },
  {
   "attachments": {},
   "cell_type": "markdown",
   "id": "9ca7acd2",
   "metadata": {},
   "source": [
    "Now You aldready understand the basics of Neural Network\n",
    "\n",
    "But let's sum this up"
   ]
  },
  {
   "attachments": {},
   "cell_type": "markdown",
   "id": "9fe314e2",
   "metadata": {},
   "source": [
    "***************************************\n",
    "W = 2 # which is called weight's (our model is going to change this)\n",
    "\n",
    "x = 2 #our original value (we can't change this)\n",
    "\n",
    "y = 8 # our Desired output\n",
    "\n",
    "lr = 0.1 # to slow down the process of updating to make it precise (learning rate)\n",
    "\n",
    "pred = x * w # simple linear function \n",
    "\n",
    "loss = y - pred # our loss (distance between the desired output and prediction)\n",
    "\n",
    "dl = -1 # the gradient for our loss function\n",
    "\n",
    "dw = x * dl # the gradient for our Weights with chain rule \n",
    "***********************************"
   ]
  },
  {
   "attachments": {},
   "cell_type": "markdown",
   "id": "5f641b99",
   "metadata": {},
   "source": [
    "## Fully put together with full Automation"
   ]
  },
  {
   "cell_type": "code",
   "execution_count": 495,
   "id": "db568117",
   "metadata": {},
   "outputs": [],
   "source": [
    "def f(w):\n",
    "    return x*w"
   ]
  },
  {
   "attachments": {},
   "cell_type": "markdown",
   "id": "da5890cc",
   "metadata": {},
   "source": [
    "### change the y value as greater or as much as you want our AI model is going to predict the right W value for that (keep the y value with a divisible of 2 to get pretty accurate answer)"
   ]
  },
  {
   "cell_type": "code",
   "execution_count": 496,
   "id": "2f6d111d",
   "metadata": {},
   "outputs": [
    {
     "name": "stdout",
     "output_type": "stream",
     "text": [
      "322\n",
      "loss is :  318.4\n",
      "loss is :  314.4\n",
      "loss is :  310.4\n",
      "loss is :  306.4\n",
      "loss is :  302.40000000000003\n",
      "loss is :  298.40000000000003\n",
      "loss is :  294.40000000000003\n",
      "loss is :  290.40000000000003\n",
      "loss is :  286.4000000000001\n",
      "loss is :  282.4000000000001\n",
      "loss is :  278.4000000000001\n",
      "loss is :  274.4000000000001\n",
      "loss is :  270.40000000000015\n",
      "loss is :  266.40000000000015\n",
      "loss is :  262.40000000000015\n",
      "loss is :  258.40000000000015\n",
      "loss is :  254.4000000000001\n",
      "loss is :  250.40000000000003\n",
      "loss is :  246.39999999999998\n",
      "loss is :  242.39999999999992\n",
      "loss is :  238.39999999999986\n",
      "loss is :  234.3999999999998\n",
      "loss is :  230.39999999999975\n",
      "loss is :  226.3999999999997\n",
      "loss is :  222.39999999999964\n",
      "loss is :  218.39999999999958\n",
      "loss is :  214.39999999999952\n",
      "loss is :  210.39999999999947\n",
      "loss is :  206.3999999999994\n",
      "loss is :  202.39999999999935\n",
      "loss is :  198.3999999999993\n",
      "loss is :  194.39999999999924\n",
      "loss is :  190.39999999999918\n",
      "loss is :  186.39999999999912\n",
      "loss is :  182.39999999999907\n",
      "loss is :  178.399999999999\n",
      "loss is :  174.39999999999895\n",
      "loss is :  170.3999999999989\n",
      "loss is :  166.39999999999884\n",
      "loss is :  162.39999999999878\n",
      "loss is :  158.39999999999873\n",
      "loss is :  154.39999999999867\n",
      "loss is :  150.3999999999986\n",
      "loss is :  146.39999999999856\n",
      "loss is :  142.3999999999985\n",
      "loss is :  138.39999999999844\n",
      "loss is :  134.39999999999839\n",
      "loss is :  130.39999999999833\n",
      "loss is :  126.39999999999827\n",
      "loss is :  122.39999999999822\n",
      "loss is :  118.39999999999816\n",
      "loss is :  114.3999999999981\n",
      "loss is :  110.39999999999804\n",
      "loss is :  106.39999999999799\n",
      "loss is :  102.39999999999793\n",
      "loss is :  98.39999999999787\n",
      "loss is :  94.39999999999782\n",
      "loss is :  90.39999999999776\n",
      "loss is :  86.3999999999977\n",
      "loss is :  82.39999999999765\n",
      "loss is :  78.39999999999759\n",
      "loss is :  74.39999999999753\n",
      "loss is :  70.39999999999748\n",
      "loss is :  66.39999999999753\n",
      "loss is :  62.39999999999776\n",
      "loss is :  58.39999999999799\n",
      "loss is :  54.399999999998215\n",
      "loss is :  50.39999999999844\n",
      "loss is :  46.39999999999867\n",
      "loss is :  42.3999999999989\n",
      "loss is :  38.399999999999125\n",
      "loss is :  34.39999999999935\n",
      "loss is :  30.39999999999958\n",
      "loss is :  26.399999999999807\n",
      "loss is :  22.400000000000034\n",
      "loss is :  18.40000000000026\n",
      "loss is :  14.400000000000489\n",
      "loss is :  10.400000000000716\n",
      "loss is :  6.400000000000944\n",
      "loss is :  2.400000000001171\n"
     ]
    }
   ],
   "source": [
    "w = 1\n",
    "x = 2\n",
    "x = 2\n",
    "y = 324 # change the output if you want in a positive direction to any number you want\n",
    "lr = 0.1\n",
    "i = 0\n",
    "l = loss(y,f(w))\n",
    "print(l)\n",
    "while l>0.1:\n",
    "    \n",
    "    i+=1\n",
    "    #forward pass\n",
    "    pred = f(w)\n",
    "    \n",
    "    l = loss(y,pred)\n",
    "    \n",
    "    if i % 10 == 0:\n",
    "        print(\"loss is : \",l)\n",
    "        \n",
    "    #backward pass \n",
    "    w_grad = 2 * -1\n",
    "    \n",
    "    #updating the w value\n",
    "    w -= lr * w_grad"
   ]
  },
  {
   "cell_type": "code",
   "execution_count": 497,
   "id": "848050bd",
   "metadata": {},
   "outputs": [
    {
     "data": {
      "text/plain": [
       "162.19999999999933"
      ]
     },
     "execution_count": 497,
     "metadata": {},
     "output_type": "execute_result"
    }
   ],
   "source": [
    "w"
   ]
  },
  {
   "cell_type": "code",
   "execution_count": 498,
   "id": "b5fa20a6",
   "metadata": {},
   "outputs": [
    {
     "data": {
      "text/plain": [
       "324"
      ]
     },
     "execution_count": 498,
     "metadata": {},
     "output_type": "execute_result"
    }
   ],
   "source": [
    "round(f(w))# "
   ]
  },
  {
   "attachments": {},
   "cell_type": "markdown",
   "id": "65148207",
   "metadata": {},
   "source": [
    "That's it you Now fully know What is happening inside the neural network while it's training \n",
    "\n",
    "Now if you want to challenge yourself to understand even further just look down bellow \n",
    "\n",
    "Warning : If you didn't understand the above part clearly enough (I highly recommend Watching my beloved Angel Tutorial and then come back after you understand the above part >>>*all the best*<<<)"
   ]
  },
  {
   "attachments": {},
   "cell_type": "markdown",
   "id": "a81e6237",
   "metadata": {},
   "source": [
    "## Big one (with real problem)"
   ]
  },
  {
   "attachments": {},
   "cell_type": "markdown",
   "id": "8effe5f7",
   "metadata": {},
   "source": [
    "W :-> just a random values for w but this time it contain 3 rows and 3 columns number"
   ]
  },
  {
   "cell_type": "code",
   "execution_count": 499,
   "id": "e29009a5",
   "metadata": {},
   "outputs": [
    {
     "data": {
      "text/plain": [
       "tensor([[-0.2151,  1.0744, -1.3856],\n",
       "        [ 1.2338,  0.3470, -0.5861],\n",
       "        [ 0.8782, -0.6359,  0.9050]], requires_grad=True)"
      ]
     },
     "execution_count": 499,
     "metadata": {},
     "output_type": "execute_result"
    }
   ],
   "source": [
    "w = torch.randn((3,3),requires_grad=True)\n",
    "w# again it's random numbers in normal distribution(bell curve distribution)"
   ]
  },
  {
   "cell_type": "code",
   "execution_count": 500,
   "id": "3d79d77f",
   "metadata": {},
   "outputs": [],
   "source": [
    "x = torch.tensor([2,4,6],dtype=torch.float32)\n",
    "y = torch.tensor([4,8,12],requires_grad=True,dtype=torch.float32)\n",
    "def f(w,x):\n",
    "    return x@w"
   ]
  },
  {
   "attachments": {},
   "cell_type": "markdown",
   "id": "79dea634",
   "metadata": {},
   "source": [
    "### Loss Function"
   ]
  },
  {
   "attachments": {},
   "cell_type": "markdown",
   "id": "e465fd5b",
   "metadata": {},
   "source": [
    "Here as you can see our loss function is some what complecated but not really if you break it down \n",
    "\n",
    "it's `mean squared error` \n",
    "\n",
    "which means \n",
    "\n",
    "$adding((y - pred)^2)/len(y)$\n",
    "\n",
    "squaring the distance so we don't get negative value as a loss \n"
   ]
  },
  {
   "attachments": {},
   "cell_type": "markdown",
   "id": "391dcba2",
   "metadata": {},
   "source": [
    "****************************\n",
    "So let's break it down \n",
    "\n",
    "1. orginal = y -> y_shape->3\n",
    "\n",
    "2. prediction = x@w -> matrix multiplication x_shape->[3],w_shape->[3,3]\n",
    "\n",
    "3. diff = orginal - prediction\n",
    "\n",
    "4. diff_2 = diff ** 2 -> squaring (just like in the formula)\n",
    "\n",
    "5. sum_dif = suming over(diff_2) again adding the squared differences\n",
    "\n",
    "6. l = len(orginal)**-1 -> which is also represented as ->`1/len(orginal)`\n",
    "\n",
    "7. f_l = l * sum_diff -> which is also represented as `sum_diff/len(orginal)`"
   ]
  },
  {
   "cell_type": "code",
   "execution_count": 501,
   "id": "10e921cd",
   "metadata": {},
   "outputs": [
    {
     "data": {
      "text/plain": [
       "tensor(79.4787, grad_fn=<MulBackward0>)"
      ]
     },
     "execution_count": 501,
     "metadata": {},
     "output_type": "execute_result"
    }
   ],
   "source": [
    "#Loss\n",
    "org = y\n",
    "pred = f(w,x)\n",
    "diff = org - pred\n",
    "diff_2 = diff**2\n",
    "sum_dif = sum(diff_2) \n",
    "l = torch.tensor(len(org)**-1,requires_grad=True)\n",
    "f_l = l*sum_dif\n",
    "f_l"
   ]
  },
  {
   "attachments": {},
   "cell_type": "markdown",
   "id": "50e8c9b5",
   "metadata": {},
   "source": [
    "Why do we have to break down the formula like this \n",
    "\n",
    "because it's easy to do the `gradient finding` step when we break it down like this compared to the whole formula "
   ]
  },
  {
   "attachments": {},
   "cell_type": "markdown",
   "id": "32639164",
   "metadata": {},
   "source": [
    "### We are telling the pytorch to keep the gradient so we can access it globaly"
   ]
  },
  {
   "cell_type": "code",
   "execution_count": 502,
   "id": "bba7145e",
   "metadata": {},
   "outputs": [
    {
     "name": "stdout",
     "output_type": "stream",
     "text": [
      "tensor(79.4787, grad_fn=<MulBackward0>)\n",
      "tensor(0.3333, requires_grad=True)\n",
      "tensor(238.4360, grad_fn=<AddBackward0>)\n",
      "tensor([ 33.3425,  68.5309, 136.5625], grad_fn=<PowBackward0>)\n",
      "tensor([-5.7743,  8.2783, 11.6860], grad_fn=<SubBackward0>)\n",
      "tensor([ 4.,  8., 12.], requires_grad=True)\n",
      "tensor([ 9.7743, -0.2783,  0.3140], grad_fn=<SqueezeBackward3>)\n"
     ]
    }
   ],
   "source": [
    "p = [f_l,l,sum_dif,diff_2,diff,org,pred]\n",
    "for i in p:\n",
    "    i.retain_grad()\n",
    "    print(i)"
   ]
  },
  {
   "attachments": {},
   "cell_type": "markdown",
   "id": "7034ba28",
   "metadata": {},
   "source": [
    "We are doing this step to make the torch library to also calculate the gradient and store it in the grad variable so we can check with our own finding and the library finding and see if it both match"
   ]
  },
  {
   "attachments": {},
   "cell_type": "markdown",
   "id": "00160f8d",
   "metadata": {},
   "source": [
    "### functionizing our loss (mean squared Error)"
   ]
  },
  {
   "cell_type": "code",
   "execution_count": 503,
   "id": "7381c6be",
   "metadata": {},
   "outputs": [],
   "source": [
    "def loss(y,pred):\n",
    "    org = y.clone().detach()\n",
    "    diff = org - pred\n",
    "    diff_2 = diff**2\n",
    "    sum_dif = sum(diff_2) \n",
    "    l = torch.tensor(len(org)**-1,requires_grad=True)\n",
    "    f_l = l*sum_dif\n",
    "    return f_l"
   ]
  },
  {
   "attachments": {},
   "cell_type": "markdown",
   "id": "d688f6be",
   "metadata": {},
   "source": [
    "### Calling backward on the full_loss(f_l) to get the gradient for each value's in the code"
   ]
  },
  {
   "cell_type": "code",
   "execution_count": 504,
   "id": "a5e00e8b",
   "metadata": {},
   "outputs": [],
   "source": [
    "f_l.backward()"
   ]
  },
  {
   "cell_type": "code",
   "execution_count": 505,
   "id": "beea4209",
   "metadata": {},
   "outputs": [
    {
     "data": {
      "text/plain": [
       "tensor([[  7.6991, -11.0378, -15.5813],\n",
       "        [ 15.3981, -22.0756, -31.1627],\n",
       "        [ 23.0972, -33.1134, -46.7440]])"
      ]
     },
     "execution_count": 505,
     "metadata": {},
     "output_type": "execute_result"
    }
   ],
   "source": [
    "# we need to have this so we can check whether we got the right gradient by using our manual backpropagation\n",
    "w.grad"
   ]
  },
  {
   "attachments": {},
   "cell_type": "markdown",
   "id": "83af650d",
   "metadata": {},
   "source": [
    "### finding the Gradients manually now"
   ]
  },
  {
   "attachments": {},
   "cell_type": "markdown",
   "id": "62c3a53d",
   "metadata": {},
   "source": [
    "If you know the power rule which i didn't cover it in this examples...\n",
    "\n",
    "then you can understand the whole thing without any problem \n",
    "\n",
    "in brief \n",
    "\n",
    "if we have the power \n",
    "\n",
    "$2^3$\n",
    "\n",
    "the gradient value is \n",
    "\n",
    "$3*2^2$\n",
    "\n",
    "and another example \n",
    "\n",
    "$2^4$ -> $4*2^3$\n",
    "\n",
    "in general \n",
    "\n",
    "$x^n$ -> $n*x^(n-1)$"
   ]
  },
  {
   "attachments": {},
   "cell_type": "markdown",
   "id": "54e4aa85",
   "metadata": {},
   "source": [
    "While finding the gradient like this we have to make sure that shape match with the actual value "
   ]
  },
  {
   "cell_type": "code",
   "execution_count": 506,
   "id": "aa25cd4c",
   "metadata": {},
   "outputs": [
    {
     "data": {
      "text/plain": [
       "tensor(79.4787, grad_fn=<MulBackward0>)"
      ]
     },
     "execution_count": 506,
     "metadata": {},
     "output_type": "execute_result"
    }
   ],
   "source": [
    "f_l.shape# it has zero dimention(shape) which means it contains only one value\n",
    "f_l"
   ]
  },
  {
   "cell_type": "code",
   "execution_count": 507,
   "id": "77abf493",
   "metadata": {},
   "outputs": [
    {
     "data": {
      "text/plain": [
       "tensor(0.3333, requires_grad=True)"
      ]
     },
     "execution_count": 507,
     "metadata": {},
     "output_type": "execute_result"
    }
   ],
   "source": [
    "l.shape# same it has zero dimention\n",
    "l"
   ]
  },
  {
   "cell_type": "code",
   "execution_count": 508,
   "id": "40117afa",
   "metadata": {},
   "outputs": [
    {
     "data": {
      "text/plain": [
       "tensor(238.4360, grad_fn=<AddBackward0>)"
      ]
     },
     "execution_count": 508,
     "metadata": {},
     "output_type": "execute_result"
    }
   ],
   "source": [
    "sum_dif.shape# same\n",
    "sum_dif"
   ]
  },
  {
   "cell_type": "code",
   "execution_count": 509,
   "id": "d8a6c20b",
   "metadata": {},
   "outputs": [
    {
     "data": {
      "text/plain": [
       "tensor([ 33.3425,  68.5309, 136.5625], grad_fn=<PowBackward0>)"
      ]
     },
     "execution_count": 509,
     "metadata": {},
     "output_type": "execute_result"
    }
   ],
   "source": [
    "diff_2.shape# here we can see the shape/size is 3\n",
    "diff_2"
   ]
  },
  {
   "cell_type": "code",
   "execution_count": 510,
   "id": "97eacfc0",
   "metadata": {},
   "outputs": [
    {
     "data": {
      "text/plain": [
       "torch.Size([3])"
      ]
     },
     "execution_count": 510,
     "metadata": {},
     "output_type": "execute_result"
    }
   ],
   "source": [
    "diff.shape # this shape is also three values\n",
    "# diff"
   ]
  },
  {
   "cell_type": "code",
   "execution_count": 511,
   "id": "e65e7ac6",
   "metadata": {},
   "outputs": [
    {
     "data": {
      "text/plain": [
       "torch.Size([3, 3])"
      ]
     },
     "execution_count": 511,
     "metadata": {},
     "output_type": "execute_result"
    }
   ],
   "source": [
    "pred.shape#same here 3 values\n",
    "w.shape# and this value contain 2 dimention (rows,columns)"
   ]
  },
  {
   "attachments": {},
   "cell_type": "markdown",
   "id": "fd3a15fe",
   "metadata": {},
   "source": [
    "so the matching gradient is also supposed to have that much gradient values "
   ]
  },
  {
   "cell_type": "code",
   "execution_count": 512,
   "id": "66d4ea1e",
   "metadata": {},
   "outputs": [
    {
     "data": {
      "text/plain": [
       "tensor(79.4787, grad_fn=<MulBackward0>)"
      ]
     },
     "execution_count": 512,
     "metadata": {},
     "output_type": "execute_result"
    }
   ],
   "source": [
    "#going from f_l -> w to find the final W_grad \n",
    "org = y\n",
    "pred = x @ w\n",
    "diff = org - pred\n",
    "diff_2 = diff**2\n",
    "sum_dif = sum(diff_2) \n",
    "l = torch.tensor(len(org)**-1,requires_grad=True)\n",
    "f_l = l*sum_dif\n",
    "f_l"
   ]
  },
  {
   "cell_type": "code",
   "execution_count": 513,
   "id": "fe19cdef",
   "metadata": {},
   "outputs": [
    {
     "data": {
      "text/plain": [
       "tensor([[  7.6991, -11.0378, -15.5813],\n",
       "        [ 15.3981, -22.0756, -31.1627],\n",
       "        [ 23.0972, -33.1134, -46.7440]], grad_fn=<MulBackward0>)"
      ]
     },
     "execution_count": 513,
     "metadata": {},
     "output_type": "execute_result"
    }
   ],
   "source": [
    "#starting from the start f_l\n",
    "f_l_grad = 1\n",
    "l_grad = sum_dif * f_l_grad\n",
    "sum_dif_grad = l * f_l_grad\n",
    "diff_2_grad = torch.ones(diff_2.shape) * sum_dif_grad\n",
    "diff_grad = (2*diff)* diff_2_grad\n",
    "pred_grad = -1* diff_grad\n",
    "#ended with w (also used chain rule as you can see here)\n",
    "w_grad = (torch.ones(w.shape)*x).T *pred_grad\n",
    "w_grad"
   ]
  },
  {
   "cell_type": "code",
   "execution_count": 514,
   "id": "e1e75852",
   "metadata": {},
   "outputs": [
    {
     "data": {
      "text/plain": [
       "torch.Size([])"
      ]
     },
     "execution_count": 514,
     "metadata": {},
     "output_type": "execute_result"
    }
   ],
   "source": [
    "l_grad.shape#just like l it has no size which means it has no dimention only one value\n",
    "# l_grad # just uncomment this to check it out  "
   ]
  },
  {
   "cell_type": "code",
   "execution_count": 515,
   "id": "fe6a93bd",
   "metadata": {},
   "outputs": [
    {
     "data": {
      "text/plain": [
       "torch.Size([3])"
      ]
     },
     "execution_count": 515,
     "metadata": {},
     "output_type": "execute_result"
    }
   ],
   "source": [
    "pred_grad.shape#just like the pred_grad it has 3 shape/size \n",
    "# pred_grad # just uncomment this to check it out "
   ]
  },
  {
   "cell_type": "code",
   "execution_count": 516,
   "id": "826e0a5a",
   "metadata": {},
   "outputs": [
    {
     "data": {
      "text/plain": [
       "torch.Size([3, 3])"
      ]
     },
     "execution_count": 516,
     "metadata": {},
     "output_type": "execute_result"
    }
   ],
   "source": [
    "w_grad.shape #just like w it has shape of 3,3 which is (rows,columns)"
   ]
  },
  {
   "attachments": {},
   "cell_type": "markdown",
   "id": "021fe692",
   "metadata": {},
   "source": [
    "### intializing the Weights "
   ]
  },
  {
   "cell_type": "code",
   "execution_count": 517,
   "id": "3fcdbb3c",
   "metadata": {},
   "outputs": [],
   "source": [
    "w = torch.randn((3,3),requires_grad=True)\n",
    "x = torch.tensor([2,4,6],dtype=torch.float32)\n",
    "y = torch.tensor([8,10,12])\n",
    "def f(w,x):\n",
    "    return x@w"
   ]
  },
  {
   "attachments": {},
   "cell_type": "markdown",
   "id": "c57ae777",
   "metadata": {},
   "source": [
    "### Training the model "
   ]
  },
  {
   "cell_type": "code",
   "execution_count": 518,
   "id": "53ebb65e",
   "metadata": {},
   "outputs": [
    {
     "name": "stdout",
     "output_type": "stream",
     "text": [
      "loss : 191.09176635742188\n",
      "loss : 90.44029998779297\n",
      "loss : 42.80375289916992\n",
      "loss : 20.25824737548828\n",
      "loss : 9.587871551513672\n",
      "loss : 4.537772178649902\n",
      "loss : 2.1476447582244873\n",
      "loss : 1.0164430141448975\n",
      "loss : 0.48106202483177185\n"
     ]
    }
   ],
   "source": [
    "for i in range(900):\n",
    "    #forward pass\n",
    "    pred = f(w,x)\n",
    "\n",
    "    #loss function mse\n",
    "    org = y.clone().detach()\n",
    "    pred = f(w,x)\n",
    "    diff = org - pred\n",
    "    diff_2 = diff**2\n",
    "    sum_dif = sum(diff_2) \n",
    "    l = torch.tensor(len(org)**-1,requires_grad=True)\n",
    "    f_l = l*sum_dif\n",
    "\n",
    "    #backward pass ----\n",
    "    \n",
    "    #backward/chain rule\n",
    "    f_l_grad = 1\n",
    "    l_grad = sum_dif * f_l_grad\n",
    "    sum_dif_grad = l * f_l_grad\n",
    "    diff_2_grad = torch.ones(diff_2.shape) * sum_dif_grad\n",
    "    diff_grad = (2*diff)* diff_2_grad\n",
    "    pred_grad = -1* diff_grad\n",
    "    w_grad = (torch.ones(w.shape)*x).T *pred_grad\n",
    "    \n",
    "    ##updating\n",
    "    lr = 0.001 if l >=6.0 else 0.0001\n",
    "    w.data -= lr * w_grad\n",
    "    #-----------\n",
    "    \n",
    "    #calculating the loss\n",
    "    pred = f(w,x)\n",
    "    l = loss(y,pred)\n",
    "    if i % 100 == 0:\n",
    "        print(f\"loss : {l}\")"
   ]
  },
  {
   "attachments": {},
   "cell_type": "markdown",
   "id": "4cc0ae4d",
   "metadata": {},
   "source": [
    "### Checking the outputs"
   ]
  },
  {
   "cell_type": "code",
   "execution_count": 519,
   "id": "6a91a7fa",
   "metadata": {},
   "outputs": [
    {
     "data": {
      "text/plain": [
       "(tensor([ 7.4748,  9.6214, 11.4814], grad_fn=<SqueezeBackward3>),\n",
       " tensor([ 8, 10, 12]))"
      ]
     },
     "execution_count": 519,
     "metadata": {},
     "output_type": "execute_result"
    }
   ],
   "source": [
    "f(w,x),y # agian it's not precise but it's way close if you round every value in f(w,x)"
   ]
  },
  {
   "cell_type": "code",
   "execution_count": 520,
   "id": "b8f1928c",
   "metadata": {},
   "outputs": [
    {
     "data": {
      "text/plain": [
       "tensor([ 7., 10., 11.])"
      ]
     },
     "execution_count": 520,
     "metadata": {},
     "output_type": "execute_result"
    }
   ],
   "source": [
    "p = f(w,x)\n",
    "torch.round(p.data)# as i said it's founded by the computer(not by us 🤯)"
   ]
  },
  {
   "attachments": {},
   "cell_type": "markdown",
   "id": "afd39397",
   "metadata": {},
   "source": [
    "### Checking the weights "
   ]
  },
  {
   "cell_type": "code",
   "execution_count": 521,
   "id": "30433cc6",
   "metadata": {},
   "outputs": [
    {
     "data": {
      "text/plain": [
       "tensor([[ 1.0233, -0.4248,  0.1876],\n",
       "        [-0.1255,  0.4546,  0.6322],\n",
       "        [ 0.9884,  1.4421,  1.4296]], requires_grad=True)"
      ]
     },
     "execution_count": 521,
     "metadata": {},
     "output_type": "execute_result"
    }
   ],
   "source": [
    "w # it's some patterns that we don't have to care about (it's our model learn't pattern for our data)"
   ]
  },
  {
   "attachments": {},
   "cell_type": "markdown",
   "id": "44ceb12b",
   "metadata": {},
   "source": [
    "## Let's do this with Torch (so we can appericate the library even better)"
   ]
  },
  {
   "cell_type": "code",
   "execution_count": 522,
   "id": "ec95cca2",
   "metadata": {},
   "outputs": [],
   "source": [
    "w = torch.randn((3,3),requires_grad=True)\n",
    "x = torch.tensor([2,4,6],dtype=torch.float32)\n",
    "y = torch.tensor([4,8,12])\n",
    "def f(w,x):\n",
    "    return x@w"
   ]
  },
  {
   "cell_type": "code",
   "execution_count": 523,
   "id": "90db3f0f",
   "metadata": {},
   "outputs": [
    {
     "name": "stdout",
     "output_type": "stream",
     "text": [
      "the loss is : 73.54881286621094\n",
      "the loss is : 62.778648376464844\n",
      "the loss is : 48.646888732910156\n",
      "the loss is : 33.244178771972656\n",
      "the loss is : 18.84918212890625\n",
      "the loss is : 7.5915045738220215\n",
      "the loss is : 1.1365878582000732\n",
      "the loss is : 0.43937358260154724\n"
     ]
    }
   ],
   "source": [
    "for _ in range(8):\n",
    "    \n",
    "    #forward pass\n",
    "    pred =f(w,x)\n",
    "    l = loss(y,pred)\n",
    "\n",
    "    #gradient\n",
    "    l.backward()#that's it 😂\n",
    "\n",
    "    #updating\n",
    "    if l >= 0.6:\n",
    "        w.data -= 0.001 * w.grad\n",
    "    else:\n",
    "        w.data -= 0.00001 * w.grad\n",
    "\n",
    "    #calculating loss\n",
    "    pred =f(w,x)\n",
    "    l = loss(y,pred)\n",
    "    print(f\"the loss is : {l}\")"
   ]
  },
  {
   "cell_type": "code",
   "execution_count": 524,
   "id": "9c5bbd06",
   "metadata": {},
   "outputs": [
    {
     "data": {
      "text/plain": [
       "(tensor([ 4.5225,  8.3340, 12.9662], grad_fn=<SqueezeBackward3>),\n",
       " tensor([ 4,  8, 12]))"
      ]
     },
     "execution_count": 524,
     "metadata": {},
     "output_type": "execute_result"
    }
   ],
   "source": [
    "f(w,x),y"
   ]
  },
  {
   "cell_type": "code",
   "execution_count": 525,
   "id": "7ad3102b",
   "metadata": {},
   "outputs": [
    {
     "data": {
      "text/plain": [
       "tensor([[-1.0398,  0.0924,  0.4084],\n",
       "        [-0.5070,  0.5175,  1.0363],\n",
       "        [ 1.4383,  1.0132,  1.3340]], requires_grad=True)"
      ]
     },
     "execution_count": 525,
     "metadata": {},
     "output_type": "execute_result"
    }
   ],
   "source": [
    "w# unlike the w we used in the above example which has one value 4 here it has 3,3 -> 6 values \n",
    "#to represent that 3 outputs"
   ]
  },
  {
   "attachments": {},
   "cell_type": "markdown",
   "id": "48b64dd5",
   "metadata": {},
   "source": [
    "## Transfer Learning Basic"
   ]
  },
  {
   "attachments": {},
   "cell_type": "markdown",
   "id": "dfe66057",
   "metadata": {},
   "source": [
    "Now if we saved this w in a text document or like a file format\n",
    "\n",
    "So if we opened our model next time we could just load this weights saved file and use that weight's to show the model output\n",
    "\n",
    "without Even have to Train the model from scratch \n",
    "\n",
    "This is called Transfer Learning (Pretrained Model)"
   ]
  },
  {
   "cell_type": "code",
   "execution_count": 526,
   "id": "c9eaf93f",
   "metadata": {},
   "outputs": [
    {
     "data": {
      "text/plain": [
       "tensor([ 4.5225,  8.3340, 12.9662], grad_fn=<SqueezeBackward3>)"
      ]
     },
     "execution_count": 526,
     "metadata": {},
     "output_type": "execute_result"
    }
   ],
   "source": [
    "x@w # transfer learning"
   ]
  },
  {
   "attachments": {},
   "cell_type": "markdown",
   "id": "61f3f3d2",
   "metadata": {},
   "source": [
    "Now you can confidently say that you created AI from scratch which can learn to predict the correct multiplicative term for the given output🥳🥳🐱‍💻🐱‍🐉🐱‍🐉"
   ]
  },
  {
   "attachments": {},
   "cell_type": "markdown",
   "id": "fdf0f3f0",
   "metadata": {},
   "source": [
    "## Thankyou For your Time 🐒\n",
    "\n",
    "I REALLY APPRECIATE IT 😊\n"
   ]
  }
 ],
 "metadata": {
  "kernelspec": {
   "display_name": "Python 3 (ipykernel)",
   "language": "python",
   "name": "python3"
  },
  "language_info": {
   "codemirror_mode": {
    "name": "ipython",
    "version": 3
   },
   "file_extension": ".py",
   "mimetype": "text/x-python",
   "name": "python",
   "nbconvert_exporter": "python",
   "pygments_lexer": "ipython3",
   "version": "3.8.0"
  },
  "toc": {
   "base_numbering": 1,
   "nav_menu": {},
   "number_sections": true,
   "sideBar": true,
   "skip_h1_title": false,
   "title_cell": "Table of Contents",
   "title_sidebar": "Contents",
   "toc_cell": false,
   "toc_position": {},
   "toc_section_display": true,
   "toc_window_display": false
  },
  "vscode": {
   "interpreter": {
    "hash": "db29d9c3531fbefb8528bf1617aed628388b45e6ce014ed5e5e3db8968ae6306"
   }
  }
 },
 "nbformat": 4,
 "nbformat_minor": 5
}
